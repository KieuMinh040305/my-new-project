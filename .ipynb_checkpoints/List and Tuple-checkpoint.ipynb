{
 "cells": [
  {
   "cell_type": "markdown",
   "metadata": {},
   "source": [
    "## Review: type()"
   ]
  },
  {
   "cell_type": "code",
   "execution_count": 2,
   "metadata": {},
   "outputs": [
    {
     "name": "stdout",
     "output_type": "stream",
     "text": [
      "<class 'float'>\n"
     ]
    }
   ],
   "source": [
    "# Python có 4 kiểu dữ liệu cơ bản\n",
    "# int: \n",
    "integer = 4\n",
    "# str: \n",
    "string = \"hello\"\n",
    "# bool: \n",
    "boolean = True\n",
    "# float\n",
    "float = 5.456753\n",
    "print(type(float))"
   ]
  },
  {
   "cell_type": "markdown",
   "metadata": {},
   "source": [
    "## list là gì?"
   ]
  },
  {
   "cell_type": "code",
   "execution_count": 3,
   "metadata": {},
   "outputs": [
    {
     "name": "stdout",
     "output_type": "stream",
     "text": [
      "Các bạn trong nhóm là: Minh, An, HT, DK, PA\n"
     ]
    }
   ],
   "source": [
    "# Ví dụ\n",
    "# def print_group_names() name_1, name_2, ... name_5:\n",
    "# Output: Members in group: (name_1), (name_2), ... (name_5)\n",
    "def print_group_names(name1, name2, name3, name4, name5):\n",
    "    print(f\"Các bạn trong nhóm là: {name1}, {name2}, {name3}, {name4}, {name5}\")\n",
    "print_group_names(\"Minh\", \"An\", \"HT\", \"DK\", \"PA\")"
   ]
  },
  {
   "cell_type": "code",
   "execution_count": 11,
   "metadata": {},
   "outputs": [
    {
     "name": "stdout",
     "output_type": "stream",
     "text": [
      "['An', 'HT', 'DK']\n"
     ]
    }
   ],
   "source": [
    "# Sử dụng list\n",
    "# maintain\n",
    "number = 4\n",
    "string = \"abc\"\n",
    "boolean = True\n",
    "names = [\"Minh\", \"An\", \"HT\", \"DK\", \"PA\", 123, True]\n",
    "print(names[1:4])"
   ]
  },
  {
   "cell_type": "markdown",
   "metadata": {},
   "source": [
    "### Thực hành: Viết chương trình tạo ra một list các string khác nhau và đếm tổng số lượng string dài hơn 3 kí tự"
   ]
  },
  {
   "cell_type": "code",
   "execution_count": 4,
   "metadata": {},
   "outputs": [
    {
     "name": "stdout",
     "output_type": "stream",
     "text": [
      "3\n"
     ]
    }
   ],
   "source": [
    "list_string = ['âdfafsdfdfsff', 'faffdfffwf', \"sgfffgg\", \"ad\"]\n",
    "def dem_string():\n",
    "    num = 0\n",
    "    for i in list_string:\n",
    "        if len(i)>3:\n",
    "            num += 1\n",
    "    print(num)\n",
    "dem_string()"
   ]
  },
  {
   "cell_type": "markdown",
   "metadata": {},
   "source": [
    "### Thực hành 2: Viết chương trình nhận vào 2 list và trả về True nếu 2 list có ít nhất 1 phần tử chung, ngược lại trả về False"
   ]
  },
  {
   "cell_type": "code",
   "execution_count": null,
   "metadata": {},
   "outputs": [],
   "source": []
  },
  {
   "cell_type": "markdown",
   "metadata": {},
   "source": [
    "## Các thao tác cơ bản với list"
   ]
  },
  {
   "cell_type": "markdown",
   "metadata": {},
   "source": [
    "### Kiểm tra độ dài list"
   ]
  },
  {
   "cell_type": "code",
   "execution_count": null,
   "metadata": {},
   "outputs": [],
   "source": [
    "len()"
   ]
  },
  {
   "cell_type": "markdown",
   "metadata": {},
   "source": [
    "### Truy cập phần tử trên list"
   ]
  },
  {
   "cell_type": "code",
   "execution_count": null,
   "metadata": {},
   "outputs": [],
   "source": [
    "# index và reversed index"
   ]
  },
  {
   "cell_type": "markdown",
   "metadata": {},
   "source": [
    "### Thực hành: Tạo một list 10 số tự nhiên và in ra các phần tử trong list"
   ]
  },
  {
   "cell_type": "code",
   "execution_count": 7,
   "metadata": {},
   "outputs": [
    {
     "name": "stdout",
     "output_type": "stream",
     "text": [
      "[0, 1, 2, 3, 4, 5, 6, 7, 8, 9]\n",
      "0123456789"
     ]
    }
   ],
   "source": [
    "so_tu_nhien = [0, 1, 2, 3, 4, 5, 6, 7, 8, 9]\n",
    "print(so_tu_nhien)\n",
    "for num in so_tu_nhien:\n",
    "    print(num, end=\"\")"
   ]
  },
  {
   "cell_type": "markdown",
   "metadata": {},
   "source": [
    "### Thực hành 2: Tạo ra một list con chưa 2 phần tử cuối cùng từ list đã tạo ở trên"
   ]
  },
  {
   "cell_type": "code",
   "execution_count": 9,
   "metadata": {},
   "outputs": [],
   "source": [
    "sub_list = [8, 9]"
   ]
  },
  {
   "cell_type": "markdown",
   "metadata": {},
   "source": [
    "### Cộng list"
   ]
  },
  {
   "cell_type": "code",
   "execution_count": 13,
   "metadata": {},
   "outputs": [
    {
     "name": "stdout",
     "output_type": "stream",
     "text": [
      "[0, 1, 2, 3, 4, 5, 6, 7, 8, 9, 8, 9]\n",
      "['Salad', 'Eggs', 'Onion']\n",
      "['thứ hai', 'thứ ba', 'thứ bảy', 'chủ nhật']\n"
     ]
    }
   ],
   "source": [
    "new_list = so_tu_nhien + sub_list\n",
    "print(new_list)\n",
    "# append\n",
    "recipes = [\"Salad\", \"Eggs\"]\n",
    "recipes.append(\"Onion\")\n",
    "print(recipes)\n",
    "# extend\n",
    "working_days = [\"thứ hai\", \"thứ ba\"]\n",
    "working_days.extend([\"thứ bảy\", \"chủ nhật\"])\n",
    "print(working_days)"
   ]
  },
  {
   "cell_type": "markdown",
   "metadata": {},
   "source": [
    "### Thực hành: Thêm học sinh vào lớp"
   ]
  },
  {
   "cell_type": "code",
   "execution_count": null,
   "metadata": {},
   "outputs": [],
   "source": []
  },
  {
   "cell_type": "markdown",
   "metadata": {},
   "source": [
    "### Kiểm tra phần tử tồn tại trong list"
   ]
  },
  {
   "cell_type": "code",
   "execution_count": 2,
   "metadata": {},
   "outputs": [
    {
     "name": "stdout",
     "output_type": "stream",
     "text": [
      "30 co ton tai trong list\n",
      "30 co ton tai trong list\n",
      "30 co ton tai trong list\n"
     ]
    }
   ],
   "source": [
    "a = [10, 20, 30, 40]\n",
    "#loop\n",
    "for value in a:\n",
    "    if value == 30:\n",
    "        print(\"30 co ton tai trong list\")\n",
    "#in\n",
    "if 30 in a:\n",
    "    print(\"30 co ton tai trong list\")\n",
    "else:\n",
    "    pass\n",
    "#count\n",
    "if a.count(30) > 0:\n",
    "    print(\"30 co ton tai trong list\")\n",
    "else:\n",
    "    pass"
   ]
  },
  {
   "cell_type": "markdown",
   "metadata": {},
   "source": [
    "### Xóa phần tử khỏi list"
   ]
  },
  {
   "cell_type": "code",
   "execution_count": 7,
   "metadata": {},
   "outputs": [
    {
     "name": "stdout",
     "output_type": "stream",
     "text": [
      "40\n",
      "[10, 20, 30]\n",
      "30\n",
      "[10, 20]\n"
     ]
    }
   ],
   "source": [
    "a = [10, 20, 30, 40]\n",
    "#pop (xóa phần tử ra khỏi list và return giá trị vừa xóa)\n",
    "print(a.pop())\n",
    "print(a)\n",
    "print(a.pop())\n",
    "print(a)\n",
    "\n"
   ]
  },
  {
   "cell_type": "code",
   "execution_count": 5,
   "metadata": {},
   "outputs": [
    {
     "name": "stdout",
     "output_type": "stream",
     "text": [
      "20\n",
      "[10]\n"
     ]
    }
   ],
   "source": [
    "print(a.pop(1))\n",
    "print(a)"
   ]
  },
  {
   "cell_type": "code",
   "execution_count": 8,
   "metadata": {},
   "outputs": [
    {
     "name": "stdout",
     "output_type": "stream",
     "text": [
      "[10]\n"
     ]
    }
   ],
   "source": [
    "#del (xóa phần tử tại vị trí chỉ định ra khỏi list nhưng ko return)\n",
    "del a[1]\n",
    "print(a)"
   ]
  },
  {
   "cell_type": "markdown",
   "metadata": {},
   "source": [
    "### Sắp xếp list"
   ]
  },
  {
   "cell_type": "code",
   "execution_count": 20,
   "metadata": {},
   "outputs": [
    {
     "name": "stdout",
     "output_type": "stream",
     "text": [
      "[10, 50, 30, 40]\n",
      "[50, 40, 30, 10]\n",
      "[10, 30, 40, 50]\n",
      "[50, 40, 30, 10]\n",
      "[50, 40, 30, 10]\n",
      "['Anh', 'Minh', 'ba']\n"
     ]
    }
   ],
   "source": [
    "a = [10, 50, 30, 40]\n",
    "#sort (sắp xếp theo giá trị tăng hoặc giảm dần)\n",
    "print(a)\n",
    "a.sort(reverse=True)\n",
    "print(a)\n",
    "\n",
    "#sorted (sắp xếp lại list nhưng ko làm thay đổi trực tiếp list mà sẽ tạo ra 1 list mới và return về)\n",
    "print(sorted(a))\n",
    "print(a)\n",
    "b = sorted(a, reverse=True)\n",
    "print(b)\n",
    "\n",
    "name = [\"Minh\", 'Anh', \"ba\"]\n",
    "name.sort()\n",
    "print(name)"
   ]
  },
  {
   "cell_type": "markdown",
   "metadata": {},
   "source": [
    "### Làm rỗng list"
   ]
  },
  {
   "cell_type": "code",
   "execution_count": 22,
   "metadata": {},
   "outputs": [
    {
     "name": "stdout",
     "output_type": "stream",
     "text": [
      "[10, 50, 30, 40]\n",
      "[]\n"
     ]
    }
   ],
   "source": [
    "#clear\n",
    "a = [10, 50, 30, 40]\n",
    "print(a)\n",
    "# a.clear()\n",
    "a = []\n",
    "print(a)"
   ]
  },
  {
   "cell_type": "markdown",
   "metadata": {},
   "source": [
    "### Copy list"
   ]
  },
  {
   "cell_type": "code",
   "execution_count": null,
   "metadata": {},
   "outputs": [],
   "source": []
  },
  {
   "cell_type": "code",
   "execution_count": 29,
   "metadata": {},
   "outputs": [
    {
     "name": "stdout",
     "output_type": "stream",
     "text": [
      "Giá trị của list a: [10, 50, 30, 40]\n",
      "Giá trị của list b: [10, 50, 30, 40]\n",
      "Giá trị của list a: [10, 50, 30, 40, 4]\n",
      "Giá trị của list b: [10, 50, 30, 40, 4]\n",
      "Giá trị của list c: [4, 5, 6, 7]\n",
      "Giá trị của list d: [4, 5, 6]\n",
      "[4, 5, 8, 7]\n"
     ]
    }
   ],
   "source": [
    "a = [10, 50, 30, 40]\n",
    "print(f\"Giá trị của list a: {a}\")\n",
    "b = a\n",
    "print(f\"Giá trị của list b: {b}\")\n",
    "a.append(4)\n",
    "print(f\"Giá trị của list a: {a}\")\n",
    "print(f\"Giá trị của list b: {b}\")\n",
    "\n",
    "c = [4, 5, 6]\n",
    "d = c.copy()\n",
    "c.append(7)\n",
    "print(f\"Giá trị của list c: {c}\")\n",
    "print(f\"Giá trị của list d: {d}\")\n",
    "c[2] =8\n",
    "print(c)"
   ]
  },
  {
   "cell_type": "markdown",
   "metadata": {},
   "source": [
    "## tuple"
   ]
  },
  {
   "cell_type": "code",
   "execution_count": 36,
   "metadata": {},
   "outputs": [
    {
     "name": "stdout",
     "output_type": "stream",
     "text": [
      "<class 'tuple'>\n",
      "(1, 2, 3, True, 'Hello')\n",
      "3\n"
     ]
    },
    {
     "ename": "TypeError",
     "evalue": "'tuple' object is not callable",
     "output_type": "error",
     "traceback": [
      "\u001b[1;31m---------------------------------------------------------------------------\u001b[0m",
      "\u001b[1;31mTypeError\u001b[0m                                 Traceback (most recent call last)",
      "\u001b[1;32mC:\\Users\\LAPTOP~1\\AppData\\Local\\Temp/ipykernel_16044/2444655076.py\u001b[0m in \u001b[0;36m<module>\u001b[1;34m\u001b[0m\n\u001b[0;32m      5\u001b[0m \u001b[1;33m\u001b[0m\u001b[0m\n\u001b[0;32m      6\u001b[0m \u001b[1;31m# tạo tuple từ list\u001b[0m\u001b[1;33m\u001b[0m\u001b[1;33m\u001b[0m\u001b[1;33m\u001b[0m\u001b[0m\n\u001b[1;32m----> 7\u001b[1;33m \u001b[0mtuple1\u001b[0m \u001b[1;33m=\u001b[0m \u001b[0mtuple\u001b[0m\u001b[1;33m(\u001b[0m\u001b[1;33m[\u001b[0m\u001b[1;36m1\u001b[0m\u001b[1;33m,\u001b[0m \u001b[1;36m2\u001b[0m\u001b[1;33m,\u001b[0m \u001b[1;36m3\u001b[0m\u001b[1;33m]\u001b[0m\u001b[1;33m)\u001b[0m\u001b[1;33m\u001b[0m\u001b[1;33m\u001b[0m\u001b[0m\n\u001b[0m\u001b[0;32m      8\u001b[0m \u001b[0mprint\u001b[0m\u001b[1;33m(\u001b[0m\u001b[0mtuple1\u001b[0m\u001b[1;33m)\u001b[0m\u001b[1;33m\u001b[0m\u001b[1;33m\u001b[0m\u001b[0m\n\u001b[0;32m      9\u001b[0m \u001b[1;31m#unpacking (list tương tự)\u001b[0m\u001b[1;33m\u001b[0m\u001b[1;33m\u001b[0m\u001b[1;33m\u001b[0m\u001b[0m\n",
      "\u001b[1;31mTypeError\u001b[0m: 'tuple' object is not callable"
     ]
    }
   ],
   "source": [
    "a = (1, 2, 3, True, \"Hello\")\n",
    "print(type(a))\n",
    "print(a)\n",
    "print(a[2])\n",
    "\n",
    "# tạo tuple từ list \n",
    "tuple1 = tuple([1, 2, 3])\n",
    "print(tuple1)\n",
    "#unpacking (list tương tự)\n",
    "info = (\"Long\", \"Python\")\n",
    "name, course = info"
   ]
  }
 ],
 "metadata": {
  "kernelspec": {
   "display_name": "Python 3 (ipykernel)",
   "language": "python",
   "name": "python3"
  },
  "language_info": {
   "codemirror_mode": {
    "name": "ipython",
    "version": 3
   },
   "file_extension": ".py",
   "mimetype": "text/x-python",
   "name": "python",
   "nbconvert_exporter": "python",
   "pygments_lexer": "ipython3",
   "version": "3.9.6"
  }
 },
 "nbformat": 4,
 "nbformat_minor": 4
}
