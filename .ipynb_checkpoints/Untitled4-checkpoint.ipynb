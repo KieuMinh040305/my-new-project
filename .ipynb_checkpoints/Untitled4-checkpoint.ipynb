{
 "cells": [
  {
   "cell_type": "code",
   "execution_count": 1,
   "id": "dcdd962e",
   "metadata": {
    "scrolled": false
   },
   "outputs": [
    {
     "name": "stdout",
     "output_type": "stream",
     "text": [
      "Xin chào các bạn đến với chương trình lập trình Python!\n"
     ]
    }
   ],
   "source": [
    "print(\"Xin chào các bạn đến với chương trình lập trình Python!\")"
   ]
  },
  {
   "cell_type": "code",
   "execution_count": 4,
   "id": "4e18788b",
   "metadata": {},
   "outputs": [
    {
     "name": "stdout",
     "output_type": "stream",
     "text": [
      "       Chào các bạn\n",
      "Chúc các bạn mạnh khỏe và vui vẻ nhé!\n"
     ]
    }
   ],
   "source": [
    "print(\"       Chào các bạn\")\n",
    "print(\"Chúc các bạn mạnh khỏe và vui vẻ nhé!\")"
   ]
  }
 ],
 "metadata": {
  "kernelspec": {
   "display_name": "Python 3 (ipykernel)",
   "language": "python",
   "name": "python3"
  },
  "language_info": {
   "codemirror_mode": {
    "name": "ipython",
    "version": 3
   },
   "file_extension": ".py",
   "mimetype": "text/x-python",
   "name": "python",
   "nbconvert_exporter": "python",
   "pygments_lexer": "ipython3",
   "version": "3.9.6"
  }
 },
 "nbformat": 4,
 "nbformat_minor": 5
}
