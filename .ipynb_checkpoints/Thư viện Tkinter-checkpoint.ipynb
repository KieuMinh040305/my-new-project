{
 "cells": [
  {
   "cell_type": "markdown",
   "id": "7637b45d",
   "metadata": {},
   "source": [
    "# Tkinter"
   ]
  },
  {
   "cell_type": "markdown",
   "id": "aef48c70",
   "metadata": {},
   "source": [
    "## Tkinter là gì?\n",
    "Tkinter là thư viện GUI tiêu chuẩn cho Python."
   ]
  },
  {
   "cell_type": "markdown",
   "id": "a555c9c5",
   "metadata": {},
   "source": [
    "## Các bước tạo ứng dụng Tkinter\n",
    "**Bước 1:** Import Tkinter module\n",
    "\n",
    "**Bước 2:** Tạo ra cửa số chính cho ứng dụng \n",
    "\n",
    "**Bước 3:** Thêm một số widget cho ứng dụng\n",
    "\n",
    "**Bước 4:** Tạo vòng lặp sự kiện chính để các hành động có thể diễn ra trên màn hình máy tính của người dùng\n"
   ]
  },
  {
   "cell_type": "markdown",
   "id": "f5a0f4e8",
   "metadata": {},
   "source": [
    "## Import Tkinter module"
   ]
  },
  {
   "cell_type": "code",
   "execution_count": 26,
   "id": "28a5f795",
   "metadata": {},
   "outputs": [],
   "source": [
    "from tkinter import *"
   ]
  },
  {
   "cell_type": "markdown",
   "id": "27f1704a",
   "metadata": {},
   "source": [
    "## Tạo ra cửa số cho ứng dụng"
   ]
  },
  {
   "cell_type": "code",
   "execution_count": 122,
   "id": "3063eaa3",
   "metadata": {},
   "outputs": [
    {
     "data": {
      "text/plain": [
       "''"
      ]
     },
     "execution_count": 122,
     "metadata": {},
     "output_type": "execute_result"
    }
   ],
   "source": [
    "windows = Tk()\n",
    "windows.title(\"Minh's application\")\n",
    "# chạy ứng dụng"
   ]
  },
  {
   "cell_type": "markdown",
   "id": "6a7f27d7",
   "metadata": {},
   "source": [
    "## Thêm widget cho ứng dụng"
   ]
  },
  {
   "cell_type": "code",
   "execution_count": 44,
   "id": "396c5f84",
   "metadata": {},
   "outputs": [],
   "source": [
    "content = Label(windows, text=\"Hello World!\").pack()"
   ]
  },
  {
   "cell_type": "code",
   "execution_count": 45,
   "id": "4eaca932",
   "metadata": {},
   "outputs": [],
   "source": [
    "windows.mainloop()"
   ]
  },
  {
   "cell_type": "code",
   "execution_count": 74,
   "id": "6d49cdee",
   "metadata": {},
   "outputs": [
    {
     "data": {
      "text/plain": [
       "''"
      ]
     },
     "execution_count": 74,
     "metadata": {},
     "output_type": "execute_result"
    }
   ],
   "source": [
    "# khởi tạo thư viện\n",
    "from tkinter import *\n",
    "ht = Tk()\n",
    "ht.title(\"Demo widgets\")\n"
   ]
  },
  {
   "cell_type": "code",
   "execution_count": null,
   "id": "d6b7af0b",
   "metadata": {},
   "outputs": [],
   "source": [
    "ht.mainloop()"
   ]
  },
  {
   "cell_type": "markdown",
   "id": "50cf878f",
   "metadata": {},
   "source": [
    "## label"
   ]
  },
  {
   "cell_type": "code",
   "execution_count": 27,
   "id": "6826b7e0",
   "metadata": {},
   "outputs": [],
   "source": [
    "app_name = Label(ht, text = \"DEMO WIDGET\")\n",
    "app_name.pack()\n",
    "# nếu viết thành chùm thì giá trị trả về là cả cái in ra chữ ko phải text"
   ]
  },
  {
   "cell_type": "code",
   "execution_count": 25,
   "id": "0409a2f4",
   "metadata": {},
   "outputs": [],
   "source": [
    "label = Label(ht, text = \"LABEL\").pack()"
   ]
  },
  {
   "cell_type": "code",
   "execution_count": 117,
   "id": "c5fa3c82",
   "metadata": {},
   "outputs": [],
   "source": [
    "button = Label(ht, text = \"BUTTON\").pack()"
   ]
  },
  {
   "cell_type": "markdown",
   "id": "fbf4ab01",
   "metadata": {},
   "source": [
    "## entry"
   ]
  },
  {
   "cell_type": "code",
   "execution_count": 42,
   "id": "a8dea346",
   "metadata": {},
   "outputs": [],
   "source": [
    "w = Entry(windows, bd = 5)"
   ]
  },
  {
   "cell_type": "code",
   "execution_count": 57,
   "id": "83f74a16",
   "metadata": {},
   "outputs": [],
   "source": [
    "entry_text = Label(ht, text = \"ENTRY\")\n",
    "entry_text.pack()\n"
   ]
  },
  {
   "cell_type": "code",
   "execution_count": null,
   "id": "c76d6e5b",
   "metadata": {},
   "outputs": [],
   "source": [
    "# Máy tính\n",
    "from tkinter import *\n",
    "ht = Tk()\n",
    "ht.title(\"Demo widgets\")\n"
   ]
  },
  {
   "cell_type": "code",
   "execution_count": 75,
   "id": "15109bf4",
   "metadata": {},
   "outputs": [],
   "source": [
    "may_tinh = Label(ht, text = \"MAY TINH\").grid(row=0, column=0)\n",
    "label_num1 = Label(ht, text=\"Number 1\").grid(row=1, column=0)\n",
    "label_num2 = Label(ht, text=\"Number 2\").grid(row=2, column=0)\n",
    "number1 = Entry(ht)\n",
    "number1.grid(row=1, column=1)\n",
    "number2 = Entry(ht)\n",
    "number2.grid(row=2, column=1)"
   ]
  },
  {
   "cell_type": "code",
   "execution_count": 77,
   "id": "df27ec7f",
   "metadata": {},
   "outputs": [],
   "source": [
    "label_cong = Label(ht, text=\"Phép cộng\").grid(row=3, column=0)\n",
    "label_tru = Label(ht, text=\"Phép trừ\").grid(row=4, column=0)\n",
    "label_nhan = Label(ht, text=\"Phép nhân\").grid(row=5, column=0)\n",
    "label_chia = Label(ht, text=\"Phép chia\").grid(row=6, column=0)\n",
    "def tong():\n",
    "    result.config(text= float(number1.get()) + float(number2.get()))\n",
    "nut_cong = Button(ht, text = \"+\", command=tong).grid(row=3, column=1)\n",
    "def tru():\n",
    "    result.config(text= float(number1.get()) - float(number2.get()))\n",
    "nut_tru = Button(ht, text = \"-\", command=tru).grid(row=4, column=1)\n",
    "def nhan():\n",
    "    result.config(text= float(number1.get()) * float(number2.get()))\n",
    "nut_nhan = Button(ht, text = \"*\", command=nhan).grid(row=5, column=1)\n",
    "def chia():\n",
    "    result.config(text= float(number1.get()) / float(number2.get()))\n",
    "nut_chia = Button(ht, text = \"/\", command=chia).grid(row=6, column=1)\n",
    "result = Label(ht, text=\"Kết quả\")\n",
    "result.grid(row=7, column=1)"
   ]
  },
  {
   "cell_type": "code",
   "execution_count": null,
   "id": "840285fc",
   "metadata": {},
   "outputs": [],
   "source": [
    "ht.mainloop()"
   ]
  },
  {
   "cell_type": "code",
   "execution_count": 60,
   "id": "cb665283",
   "metadata": {},
   "outputs": [],
   "source": [
    "# bài học\n",
    "from tkinter import *\n",
    "p = Tk()\n",
    "lb1 = Label(p, text = 'User: ').pack()\n",
    "en1 = Entry(p).pack()\n",
    "lb2 = Label(p, text = 'Pass: ').pack()\n",
    "en2 = Entry(p).pack()\n",
    "p.mainloop()"
   ]
  },
  {
   "cell_type": "markdown",
   "id": "220d3157",
   "metadata": {},
   "source": [
    "## button"
   ]
  },
  {
   "cell_type": "code",
   "execution_count": null,
   "id": "4376bd13",
   "metadata": {},
   "outputs": [],
   "source": [
    "# thêm nút vào Python\n",
    "w = Button(master, option=value, ...)\n",
    "master - đại diện cửa sổ cha"
   ]
  },
  {
   "cell_type": "code",
   "execution_count": 102,
   "id": "9a22f46f",
   "metadata": {},
   "outputs": [],
   "source": [
    "def update_app_name():\n",
    "    app_name.config(text=\"PYTHON FUNDAMENTAL\")\n",
    "change_text_button = Button(ht, text=\"Click to update text\", command= update_app_name)\n",
    "change_text_button.pack()"
   ]
  },
  {
   "cell_type": "code",
   "execution_count": 49,
   "id": "4ce0a12a",
   "metadata": {},
   "outputs": [],
   "source": [
    "import tkinter\n",
    "from tkinter import messagebox\n",
    "\n",
    "top = tkinter.Tk()\n",
    "\n",
    "def helloCallBack():\n",
    "    tkinter.messagebox.showinfo('Đây là messagebox', 'Show info')\n",
    "\n",
    "B = tkinter.Button(top, text =\"Hello\", command = helloCallBack)\n",
    "\n",
    "B.pack()\n",
    "top.mainloop()"
   ]
  },
  {
   "cell_type": "markdown",
   "id": "8bd06b13",
   "metadata": {},
   "source": [
    "## combobox"
   ]
  },
  {
   "cell_type": "code",
   "execution_count": 53,
   "id": "74694770",
   "metadata": {},
   "outputs": [
    {
     "ename": "RuntimeError",
     "evalue": "Too early to create variable: no default root window",
     "output_type": "error",
     "traceback": [
      "\u001b[1;31m---------------------------------------------------------------------------\u001b[0m",
      "\u001b[1;31mRuntimeError\u001b[0m                              Traceback (most recent call last)",
      "\u001b[1;32mC:\\Users\\LAPTOP~1\\AppData\\Local\\Temp/ipykernel_12904/116264109.py\u001b[0m in \u001b[0;36m<module>\u001b[1;34m\u001b[0m\n\u001b[0;32m      1\u001b[0m \u001b[1;31m# Combobox creation\u001b[0m\u001b[1;33m\u001b[0m\u001b[1;33m\u001b[0m\u001b[1;33m\u001b[0m\u001b[0m\n\u001b[1;32m----> 2\u001b[1;33m \u001b[0mn\u001b[0m \u001b[1;33m=\u001b[0m \u001b[0mtkinter\u001b[0m\u001b[1;33m.\u001b[0m\u001b[0mStringVar\u001b[0m\u001b[1;33m(\u001b[0m\u001b[1;33m)\u001b[0m\u001b[1;33m\u001b[0m\u001b[1;33m\u001b[0m\u001b[0m\n\u001b[0m\u001b[0;32m      3\u001b[0m \u001b[0mmonthchoosen\u001b[0m \u001b[1;33m=\u001b[0m \u001b[0mttk\u001b[0m\u001b[1;33m.\u001b[0m\u001b[0mCombobox\u001b[0m\u001b[1;33m(\u001b[0m\u001b[0mwindow\u001b[0m\u001b[1;33m,\u001b[0m \u001b[0mwidth\u001b[0m \u001b[1;33m=\u001b[0m \u001b[1;36m27\u001b[0m\u001b[1;33m,\u001b[0m \u001b[0mtextvariable\u001b[0m \u001b[1;33m=\u001b[0m \u001b[0mn\u001b[0m\u001b[1;33m)\u001b[0m\u001b[1;33m\u001b[0m\u001b[1;33m\u001b[0m\u001b[0m\n\u001b[0;32m      4\u001b[0m \u001b[1;33m\u001b[0m\u001b[0m\n\u001b[0;32m      5\u001b[0m \u001b[1;31m# Adding combobox drop down list\u001b[0m\u001b[1;33m\u001b[0m\u001b[1;33m\u001b[0m\u001b[1;33m\u001b[0m\u001b[0m\n",
      "\u001b[1;32mc:\\users\\laptop area\\appdata\\local\\programs\\python\\python39\\lib\\tkinter\\__init__.py\u001b[0m in \u001b[0;36m__init__\u001b[1;34m(self, master, value, name)\u001b[0m\n\u001b[0;32m    513\u001b[0m         \u001b[0mthen\u001b[0m \u001b[0mthe\u001b[0m \u001b[0mexisting\u001b[0m \u001b[0mvalue\u001b[0m \u001b[1;32mis\u001b[0m \u001b[0mretained\u001b[0m\u001b[1;33m.\u001b[0m\u001b[1;33m\u001b[0m\u001b[1;33m\u001b[0m\u001b[0m\n\u001b[0;32m    514\u001b[0m         \"\"\"\n\u001b[1;32m--> 515\u001b[1;33m         \u001b[0mVariable\u001b[0m\u001b[1;33m.\u001b[0m\u001b[0m__init__\u001b[0m\u001b[1;33m(\u001b[0m\u001b[0mself\u001b[0m\u001b[1;33m,\u001b[0m \u001b[0mmaster\u001b[0m\u001b[1;33m,\u001b[0m \u001b[0mvalue\u001b[0m\u001b[1;33m,\u001b[0m \u001b[0mname\u001b[0m\u001b[1;33m)\u001b[0m\u001b[1;33m\u001b[0m\u001b[1;33m\u001b[0m\u001b[0m\n\u001b[0m\u001b[0;32m    516\u001b[0m \u001b[1;33m\u001b[0m\u001b[0m\n\u001b[0;32m    517\u001b[0m     \u001b[1;32mdef\u001b[0m \u001b[0mget\u001b[0m\u001b[1;33m(\u001b[0m\u001b[0mself\u001b[0m\u001b[1;33m)\u001b[0m\u001b[1;33m:\u001b[0m\u001b[1;33m\u001b[0m\u001b[1;33m\u001b[0m\u001b[0m\n",
      "\u001b[1;32mc:\\users\\laptop area\\appdata\\local\\programs\\python\\python39\\lib\\tkinter\\__init__.py\u001b[0m in \u001b[0;36m__init__\u001b[1;34m(self, master, value, name)\u001b[0m\n\u001b[0;32m    344\u001b[0m         \u001b[1;32mglobal\u001b[0m \u001b[0m_varnum\u001b[0m\u001b[1;33m\u001b[0m\u001b[1;33m\u001b[0m\u001b[0m\n\u001b[0;32m    345\u001b[0m         \u001b[1;32mif\u001b[0m \u001b[1;32mnot\u001b[0m \u001b[0mmaster\u001b[0m\u001b[1;33m:\u001b[0m\u001b[1;33m\u001b[0m\u001b[1;33m\u001b[0m\u001b[0m\n\u001b[1;32m--> 346\u001b[1;33m             \u001b[0mmaster\u001b[0m \u001b[1;33m=\u001b[0m \u001b[0m_get_default_root\u001b[0m\u001b[1;33m(\u001b[0m\u001b[1;34m'create variable'\u001b[0m\u001b[1;33m)\u001b[0m\u001b[1;33m\u001b[0m\u001b[1;33m\u001b[0m\u001b[0m\n\u001b[0m\u001b[0;32m    347\u001b[0m         \u001b[0mself\u001b[0m\u001b[1;33m.\u001b[0m\u001b[0m_root\u001b[0m \u001b[1;33m=\u001b[0m \u001b[0mmaster\u001b[0m\u001b[1;33m.\u001b[0m\u001b[0m_root\u001b[0m\u001b[1;33m(\u001b[0m\u001b[1;33m)\u001b[0m\u001b[1;33m\u001b[0m\u001b[1;33m\u001b[0m\u001b[0m\n\u001b[0;32m    348\u001b[0m         \u001b[0mself\u001b[0m\u001b[1;33m.\u001b[0m\u001b[0m_tk\u001b[0m \u001b[1;33m=\u001b[0m \u001b[0mmaster\u001b[0m\u001b[1;33m.\u001b[0m\u001b[0mtk\u001b[0m\u001b[1;33m\u001b[0m\u001b[1;33m\u001b[0m\u001b[0m\n",
      "\u001b[1;32mc:\\users\\laptop area\\appdata\\local\\programs\\python\\python39\\lib\\tkinter\\__init__.py\u001b[0m in \u001b[0;36m_get_default_root\u001b[1;34m(what)\u001b[0m\n\u001b[0;32m    295\u001b[0m     \u001b[1;32mif\u001b[0m \u001b[1;32mnot\u001b[0m \u001b[0m_default_root\u001b[0m\u001b[1;33m:\u001b[0m\u001b[1;33m\u001b[0m\u001b[1;33m\u001b[0m\u001b[0m\n\u001b[0;32m    296\u001b[0m         \u001b[1;32mif\u001b[0m \u001b[0mwhat\u001b[0m\u001b[1;33m:\u001b[0m\u001b[1;33m\u001b[0m\u001b[1;33m\u001b[0m\u001b[0m\n\u001b[1;32m--> 297\u001b[1;33m             \u001b[1;32mraise\u001b[0m \u001b[0mRuntimeError\u001b[0m\u001b[1;33m(\u001b[0m\u001b[1;34mf\"Too early to {what}: no default root window\"\u001b[0m\u001b[1;33m)\u001b[0m\u001b[1;33m\u001b[0m\u001b[1;33m\u001b[0m\u001b[0m\n\u001b[0m\u001b[0;32m    298\u001b[0m         \u001b[0mroot\u001b[0m \u001b[1;33m=\u001b[0m \u001b[0mTk\u001b[0m\u001b[1;33m(\u001b[0m\u001b[1;33m)\u001b[0m\u001b[1;33m\u001b[0m\u001b[1;33m\u001b[0m\u001b[0m\n\u001b[0;32m    299\u001b[0m         \u001b[1;32massert\u001b[0m \u001b[0m_default_root\u001b[0m \u001b[1;32mis\u001b[0m \u001b[0mroot\u001b[0m\u001b[1;33m\u001b[0m\u001b[1;33m\u001b[0m\u001b[0m\n",
      "\u001b[1;31mRuntimeError\u001b[0m: Too early to create variable: no default root window"
     ]
    }
   ],
   "source": [
    "# Combobox creation\n",
    "n = Tk.StringVar()\n",
    "monthchoosen = ttk.Combobox(window, width = 27, textvariable = n)\n",
    "  \n",
    "# Adding combobox drop down list\n",
    "monthchoosen['values'] = (' January', \n",
    "                          ' February',\n",
    "                          ' March',\n",
    "                          ' April',\n",
    "                          ' May',\n",
    "                          ' June',\n",
    "                          ' July',\n",
    "                          ' August',\n",
    "                          ' September',\n",
    "                          ' October',\n",
    "                          ' November',\n",
    "                          ' December')\n",
    "  \n",
    "monthchoosen.grid(column = 1, row = 5)\n",
    "monthchoosen.current()"
   ]
  },
  {
   "cell_type": "markdown",
   "id": "f5203893",
   "metadata": {},
   "source": [
    "## text"
   ]
  },
  {
   "cell_type": "code",
   "execution_count": null,
   "id": "f822f455",
   "metadata": {},
   "outputs": [],
   "source": []
  },
  {
   "cell_type": "markdown",
   "id": "7b58544c",
   "metadata": {},
   "source": [
    "## messagebox"
   ]
  },
  {
   "cell_type": "code",
   "execution_count": 57,
   "id": "d721e682",
   "metadata": {},
   "outputs": [],
   "source": [
    "#from tkinter import mesagebox\n",
    "\n",
    "#show infor messagebox\n",
    "#Syntax: messagebox.showinfor(Title = \"\", message = \"\")\n",
    "#messagebox.showinfo('Đây là messagebox', 'Show info')\n",
    "\n",
    "#Warning messagebox\n",
    "#Syntax: messagebox.showwarning/showerror(Title = \" \", message = \" \")\n",
    "#messagebox.showwarning('Đây là messagebox', 'Show warning')\n",
    "#messagebox.showerror('Đây là messagebox', 'ERROR!')\n",
    "\n",
    "#Question messagebox\n",
    "#Asking yes/no question and return the same\n",
    "ask = messagebox.askquestion('Đây là messagebox', 'Bạn có học Python không?')\n",
    "if ask == \"yes\":\n",
    "    messagebox.showinfo('Bạn có học Python không?', 'Có!')\n",
    "else:\n",
    "    messagebox.showinfo('Bạn có học python không?', 'Không')\n",
    "w.mainloop()"
   ]
  },
  {
   "cell_type": "markdown",
   "id": "eebac94e",
   "metadata": {},
   "source": [
    "## checkbutton"
   ]
  },
  {
   "cell_type": "code",
   "execution_count": 59,
   "id": "1e534acb",
   "metadata": {},
   "outputs": [],
   "source": [
    "from tkinter import *\n",
    "\n",
    "import tkinter\n",
    "    \n",
    "windows = Tk()\n",
    "CheckVar1 = IntVar()\n",
    "CheckVar2 = IntVar()\n",
    "C1 = Checkbutton(windows, text = \"Music\", selectcolor = \"red\", variable = CheckVar1, \\\n",
    "                 onvalue = 1, offvalue = 0, height=5, \\\n",
    "                 width = 20, )\n",
    "C2 = Checkbutton(windows, text = \"Video\", selectcolor = \"yellow\", variable = CheckVar2, \\\n",
    "                 onvalue = 1, offvalue = 0, height=5, \\\n",
    "                 width = 20)\n",
    "C1.pack()\n",
    "C2.pack()\n",
    "top.mainloop()"
   ]
  },
  {
   "cell_type": "code",
   "execution_count": 11,
   "id": "698911d5",
   "metadata": {},
   "outputs": [],
   "source": [
    "# Simple Calculator\n",
    "from tkinter import *\n",
    "ht = Tk()\n",
    "ht.title(\"May Tinh\")\n",
    "may_tinh = Label(ht, text = \"MAY TINH\").grid(row=0, column=0)\n",
    "label_num1 = Label(ht, text=\"Number 1\").grid(row=1, column=0)\n",
    "label_num2 = Label(ht, text=\"Number 2\").grid(row=2, column=0)\n",
    "number1 = Entry(ht)\n",
    "number1.grid(row=1, column=1)\n",
    "number2 = Entry(ht)\n",
    "number2.grid(row=2, column=1)\n",
    "label_cong = Label(ht, text=\"Phép cộng\").grid(row=3, column=0)\n",
    "label_tru = Label(ht, text=\"Phép trừ\").grid(row=4, column=0)\n",
    "label_nhan = Label(ht, text=\"Phép nhân\").grid(row=5, column=0)\n",
    "label_chia = Label(ht, text=\"Phép chia\").grid(row=6, column=0)\n",
    "def cong():\n",
    "    result.config(text= float(number1.get()) + float(number2.get()))\n",
    "nut_cong = Button(ht, text = \"+\", command=cong, height = 1, width = 16).grid(row=3, column=1)\n",
    "def tru():\n",
    "    result.config(text= float(number1.get()) - float(number2.get()))\n",
    "nut_tru = Button(ht, text = \"-\", command=tru, height = 1, width = 16).grid(row=4, column=1)\n",
    "def nhan():\n",
    "    result.config(text= float(number1.get()) * float(number2.get()))\n",
    "nut_nhan = Button(ht, text = \"*\", command=nhan, height = 1, width = 16).grid(row=5, column=1)\n",
    "def chia():\n",
    "    result.config(text= float(number1.get()) / float(number2.get()))\n",
    "nut_chia = Button(ht, text = \"/\", command=chia, height = 1, width = 16).grid(row=6, column=1)\n",
    "result = Label(ht, text=\"Kết quả\")\n",
    "result.grid(row=7, column=1)\n",
    "ht.mainloop()"
   ]
  },
  {
   "cell_type": "code",
   "execution_count": null,
   "id": "2413ffbf",
   "metadata": {},
   "outputs": [],
   "source": []
  }
 ],
 "metadata": {
  "kernelspec": {
   "display_name": "Python 3 (ipykernel)",
   "language": "python",
   "name": "python3"
  },
  "language_info": {
   "codemirror_mode": {
    "name": "ipython",
    "version": 3
   },
   "file_extension": ".py",
   "mimetype": "text/x-python",
   "name": "python",
   "nbconvert_exporter": "python",
   "pygments_lexer": "ipython3",
   "version": "3.9.6"
  }
 },
 "nbformat": 4,
 "nbformat_minor": 5
}
