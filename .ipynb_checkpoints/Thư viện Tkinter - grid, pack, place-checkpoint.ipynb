{
 "cells": [
  {
   "cell_type": "code",
   "execution_count": 22,
   "id": "334dfc6d",
   "metadata": {},
   "outputs": [],
   "source": [
    "# Setip windows\n",
    "from tkinter import *\n",
    "ht = Tk()\n",
    "message_label = Label(ht, text = \"Please enter email and password to login\")\n",
    "username_label = Label(ht, text = \"Username\")\n",
    "password_label = Label(ht, text = \"Password\")\n",
    "username_entry = Entry(ht)\n",
    "password_entry = Entry(ht)\n",
    "login_button = Button(ht, text = \"Login\", command = None)"
   ]
  },
  {
   "cell_type": "markdown",
   "id": "4c559a90",
   "metadata": {},
   "source": [
    "## pack"
   ]
  },
  {
   "cell_type": "code",
   "execution_count": 5,
   "id": "d6af98e3",
   "metadata": {},
   "outputs": [],
   "source": [
    "message_label.pack()\n",
    "username_label.pack()\n",
    "username_entry.pack()\n",
    "password_label.pack()\n",
    "password_entry.pack()\n",
    "login_button.pack()\n",
    "ht.mainloop()"
   ]
  },
  {
   "cell_type": "markdown",
   "id": "0093b00d",
   "metadata": {},
   "source": [
    "## grid"
   ]
  },
  {
   "cell_type": "code",
   "execution_count": 8,
   "id": "d89cd306",
   "metadata": {},
   "outputs": [],
   "source": [
    "message_label.grid(row=0, column=1)\n",
    "username_label.grid(row=1, column=0)\n",
    "username_entry.grid(row=1, column=1)\n",
    "password_label.grid(row=2, column=0)\n",
    "password_entry.grid(row=2, column=1)\n",
    "login_button.grid(row=3, column=1)\n",
    "ht.mainloop()"
   ]
  },
  {
   "cell_type": "markdown",
   "id": "f0a05577",
   "metadata": {},
   "source": [
    "## place"
   ]
  },
  {
   "cell_type": "code",
   "execution_count": 23,
   "id": "070e6374",
   "metadata": {},
   "outputs": [],
   "source": [
    "message_label.place(x=80, y=10)\n",
    "username_label.place(x=5, y=50)\n",
    "username_entry.place(x=70, y=50)\n",
    "password_label.place(x=5, y=80)\n",
    "password_entry.place(x=70, y=80)\n",
    "login_button.place(x=100, y=120)\n",
    "ht.mainloop()"
   ]
  },
  {
   "cell_type": "code",
   "execution_count": 39,
   "id": "48b4129b",
   "metadata": {},
   "outputs": [],
   "source": [
    "# Bai tap nhom\n",
    "from tkinter import *\n",
    "ht = Tk()\n",
    "ht.title(\"Ingredient management system\")\n",
    "name_label = Label(ht, text = \"Name\")\n",
    "quantity_label = Label(ht, text = \"Quantity\")\n",
    "today_label = Label(ht, text = \"Today, restaurant\")\n",
    "name_entry = Entry(ht)\n",
    "quantity_entry = Entry(ht)\n",
    "search_entry = Entry(ht)\n",
    "today_entry = Entry(ht)\n",
    "ingredient_choosen1 = Entry(ht)\n",
    "ingredient_choosen2 = Entry(ht)\n",
    "name_label.grid(row=0, column=0)\n",
    "quantity_label.grid(row=1, column=0)\n",
    "today_label.grid(row=5, column=0)\n",
    "name_entry.grid(row=0, column=1)\n",
    "quantity_entry.grid(row=1, column=1)\n",
    "search_entry.grid(row=4, column=0)\n",
    "today_entry.grid(row=5, column=2)\n",
    "ingredient_choosen1.grid(row=5, column=1)\n",
    "ingredient_choosen2.grid(row=5, column=3)"
   ]
  },
  {
   "cell_type": "code",
   "execution_count": 40,
   "id": "3035baf1",
   "metadata": {},
   "outputs": [],
   "source": [
    "add_button = Button(ht, text = \"Add\", command = None)\n",
    "delete_button = Button(ht, text = \"Delete\", command = None)\n",
    "reset_button = Button(ht, text = \"Reset\", command = None)\n",
    "search_button = Button(ht, text = \"Search\", command = None)\n",
    "save_button = Button(ht, text = \"Save\", command = None)\n",
    "add_button.grid(row=3, column=0)\n",
    "delete_button.grid(row=3, column=1)\n",
    "reset_button.grid(row=3, column=2)\n",
    "search_button.grid(row=4, column=1)\n",
    "save_button.grid(row=5, column=4)"
   ]
  },
  {
   "cell_type": "code",
   "execution_count": null,
   "id": "3cb296e8",
   "metadata": {},
   "outputs": [],
   "source": [
    "ht.mainloop()"
   ]
  },
  {
   "cell_type": "code",
   "execution_count": 1,
   "id": "43f85676",
   "metadata": {},
   "outputs": [],
   "source": [
    "# GUI to Shutdown, Restart and Logout from the PC using Python\n",
    "from tkinter import *\n",
    "import os\n",
    "def shutdown():\n",
    "    return os.system(\"shutdown /s /t 1\")\n",
    "def restart():\n",
    "    return os.system(\"shutdown /r /t 1\")\n",
    "def logout():\n",
    "    return os.system(\"shutdown -l\")\n",
    "master = Tk()\n",
    "master.configure(bg='light grey')\n",
    "Button(master, text=\"Shutdown\", command=shutdown).grid(row=0)\n",
    "Button(master, text=\"Restart\", command=restart).grid(row=1)\n",
    "Button(master, text=\"Log out\", command=logout).grid(row=2)\n",
    "master.mainloop()"
   ]
  },
  {
   "cell_type": "code",
   "execution_count": 1,
   "id": "bbc5fe69",
   "metadata": {},
   "outputs": [
    {
     "name": "stdout",
     "output_type": "stream",
     "text": [
      "It is an apple\n",
      "It is an banana\n"
     ]
    }
   ],
   "source": [
    "# How to check which Button was clicked in Tkinter\n",
    "from tkinter import *\n",
    "def apple_button_click():\n",
    "    print(\"It is an apple\")\n",
    "def banana_button_click():\n",
    "    print(\"It is an banana\")\n",
    "app = Tk()\n",
    "b1 = Button(app, text=\"Apple\", command=apple_button_click)\n",
    "b1.grid(padx=10, pady=10)  \n",
    "\n",
    "b2 = Button(app, text=\"Banana\", command=banana_button_click)\n",
    "b2.grid(padx=10, pady=10)\n",
    "app.mainloop()"
   ]
  },
  {
   "cell_type": "code",
   "execution_count": 6,
   "id": "6186e6bc",
   "metadata": {},
   "outputs": [],
   "source": [
    "# Weight Conversion GUI using Tkinter\n",
    "from tkinter import *\n",
    "wcg = Tk()\n",
    "wcg.title(\"Weight conversion\")\n",
    "text1 = Label(wcg, text = \"Enter the weight in kg\").grid(row=0, column=0)\n",
    "text2 = Label(wcg, text = \"Gram\").grid(row=1, column=0)\n",
    "text3 = Label(wcg, text = \"Pounds\").grid(row=1, column=1)\n",
    "text4 = Label(wcg, text = \"Ounce\").grid(row=1,column=2)\n",
    "gram = Label(wcg, text = \"0\")\n",
    "gram.grid(row=2, column=0)\n",
    "pounds = Label(wcg, text = \"0\")\n",
    "pounds.grid(row=2, column=1)\n",
    "ounce = Label(wcg, text = \"0\")\n",
    "ounce.grid(row=2, column=2)\n",
    "kg_entry = Entry(wcg)\n",
    "kg_entry.grid(row=0, column=1)\n",
    "def Convert():\n",
    "    gram.config(text = float(kg_entry.get()) * 1000)\n",
    "    pounds.config(text = float(kg_entry.get()) * 2.205)\n",
    "    ounce.config(text = float(kg_entry.get()) * 35.274)\n",
    "convert_button = Button(wcg, text = \"Convert\", command = Convert)\n",
    "convert_button.grid(row=0, column=2)\n",
    "wcg.mainloop()"
   ]
  },
  {
   "cell_type": "code",
   "execution_count": null,
   "id": "35a550da",
   "metadata": {},
   "outputs": [],
   "source": [
    "# "
   ]
  }
 ],
 "metadata": {
  "kernelspec": {
   "display_name": "Python 3 (ipykernel)",
   "language": "python",
   "name": "python3"
  },
  "language_info": {
   "codemirror_mode": {
    "name": "ipython",
    "version": 3
   },
   "file_extension": ".py",
   "mimetype": "text/x-python",
   "name": "python",
   "nbconvert_exporter": "python",
   "pygments_lexer": "ipython3",
   "version": "3.9.6"
  }
 },
 "nbformat": 4,
 "nbformat_minor": 5
}
