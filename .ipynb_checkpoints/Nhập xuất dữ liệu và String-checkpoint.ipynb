{
 "cells": [
  {
   "cell_type": "markdown",
   "id": "7ac14915",
   "metadata": {},
   "source": [
    "# Nhập xuất dữ liệu và String\n",
    "## Cách nhập xuất dữ liệu"
   ]
  },
  {
   "cell_type": "markdown",
   "id": "0f202ae8",
   "metadata": {},
   "source": [
    "### Xuất dữ liệu ra màn hình\n",
    "Để in các nội dung mà chúng ta mong muốn ra màn hình, ta sử dụng lệnh print()"
   ]
  },
  {
   "cell_type": "code",
   "execution_count": 1,
   "id": "a6d3f260",
   "metadata": {},
   "outputs": [
    {
     "name": "stdout",
     "output_type": "stream",
     "text": [
      "python is very easy\n"
     ]
    }
   ],
   "source": [
    "# Ví dụ: In ra nội dung \"python is very easy\"\n",
    "print(\"python is very easy\")"
   ]
  },
  {
   "cell_type": "markdown",
   "id": "7733925a",
   "metadata": {},
   "source": [
    "### Các cách custom với lệnh print"
   ]
  },
  {
   "cell_type": "markdown",
   "id": "292ab570",
   "metadata": {},
   "source": [
    "Để in một nội dung kèm theo giá trị của biến, ta có các cách sau:"
   ]
  },
  {
   "cell_type": "code",
   "execution_count": 6,
   "id": "20ff912c",
   "metadata": {},
   "outputs": [],
   "source": [
    "# I love chocolate and i hate sandwich\n",
    "food_1 = \"chocolate\"\n",
    "food_2 = \"sandwich\""
   ]
  },
  {
   "cell_type": "code",
   "execution_count": 2,
   "id": "6407a448",
   "metadata": {},
   "outputs": [
    {
     "name": "stdout",
     "output_type": "stream",
     "text": [
      "I love chocolate and i hate sandwich\n"
     ]
    }
   ],
   "source": [
    "# In trực tiếp\n",
    "print(\"I love chocolate and i hate sandwich\")"
   ]
  },
  {
   "cell_type": "code",
   "execution_count": 8,
   "id": "27d098b8",
   "metadata": {},
   "outputs": [
    {
     "name": "stdout",
     "output_type": "stream",
     "text": [
      "I love chocolate and i hate sandwich\n",
      "I love--chocolate--and i hate--sandwich\n"
     ]
    }
   ],
   "source": [
    "# In bằng cách ghép các nội dung với nhau\n",
    "print(\"I love\", food_1, \"and i hate\", food_2)\n",
    "# Để thay đổi kí tự nối, ta dùng sep=''\n",
    "print(\"I love\", food_1, \"and i hate\", food_2, sep='--')"
   ]
  },
  {
   "cell_type": "code",
   "execution_count": 11,
   "id": "717666f2",
   "metadata": {},
   "outputs": [
    {
     "name": "stdout",
     "output_type": "stream",
     "text": [
      "I love chocolate and i hate sandwich\n"
     ]
    }
   ],
   "source": [
    "# Sử dụng String Format\n",
    "print(f\"I love {food_1} and i hate {food_2}\")"
   ]
  },
  {
   "cell_type": "code",
   "execution_count": 15,
   "id": "c7276e05",
   "metadata": {},
   "outputs": [
    {
     "name": "stdout",
     "output_type": "stream",
     "text": [
      "I love chocolate and i hate sandwich\n"
     ]
    }
   ],
   "source": [
    "# Sử dụng nhiều lệnh print\n",
    "print(\"I love \", end=\"\")\n",
    "print(food_1, end=\"\")\n",
    "print(\" and i hate \", end=\"\")\n",
    "print(food_2)"
   ]
  },
  {
   "cell_type": "markdown",
   "id": "e10788fb",
   "metadata": {},
   "source": [
    "### Nhập dữ liệu\n",
    "Để nhập dữ liệu vào chương trình python, chúng ta sử dụng hàm input()"
   ]
  },
  {
   "cell_type": "code",
   "execution_count": 18,
   "id": "b8b8afd3",
   "metadata": {},
   "outputs": [
    {
     "name": "stdout",
     "output_type": "stream",
     "text": [
      "'anh yêu em'\n"
     ]
    },
    {
     "data": {
      "text/plain": [
       "\"'anh yêu em'\""
      ]
     },
     "execution_count": 18,
     "metadata": {},
     "output_type": "execute_result"
    }
   ],
   "source": [
    "input()"
   ]
  },
  {
   "cell_type": "code",
   "execution_count": 24,
   "id": "cf226e95",
   "metadata": {},
   "outputs": [
    {
     "name": "stdout",
     "output_type": "stream",
     "text": [
      "Hãy nhập chiều dài hình chữ nhật44\n",
      "44\n",
      "<class 'int'>\n"
     ]
    }
   ],
   "source": [
    "chieu_dai = int(input(\"Hãy nhập chiều dài hình chữ nhật\"))\n",
    "print(chieu_dai)\n",
    "print(type(chieu_dai))"
   ]
  },
  {
   "cell_type": "markdown",
   "id": "337f9c15",
   "metadata": {},
   "source": [
    "#### Thực hành: Viết chương trình nhập vào chiều dài và chiều rộng của hình chữ nhật, sau đó in ra chu vi và diện tích của hình chữ nhật đó"
   ]
  },
  {
   "cell_type": "code",
   "execution_count": null,
   "id": "add68103",
   "metadata": {},
   "outputs": [],
   "source": [
    "# Nhập các kích thước của hình chữ nhật\n",
    "chieu_dai = a = int(input(\"Hãy nhập chiều dài hình chữ nhật\"))\n",
    "chieu_rong = b = int(input(\"Hãy nhập chiều rộng hình chữ nhật\"))"
   ]
  },
  {
   "cell_type": "code",
   "execution_count": 27,
   "id": "7a1cd73e",
   "metadata": {},
   "outputs": [
    {
     "name": "stdout",
     "output_type": "stream",
     "text": [
      "Chu vi hình chữ nhật là 11.0\n",
      "Diện tích hình chữ nhật là 120\n"
     ]
    }
   ],
   "source": [
    "# Tính toán chu vi, diện tích\n",
    "S = a*b\n",
    "P = (a+b)/2\n",
    "print(\"Chu vi hình chữ nhật là\", P)\n",
    "print(\"Diện tích hình chữ nhật là\", S)"
   ]
  },
  {
   "cell_type": "code",
   "execution_count": 32,
   "id": "d0adf735",
   "metadata": {},
   "outputs": [
    {
     "name": "stdout",
     "output_type": "stream",
     "text": [
      "Chu vi hình chữ nhật là 11.0\n",
      "Diện tích hình chữ nhật là 120\n"
     ]
    }
   ],
   "source": [
    "# In kết quả ra màn hình bằng 3 cách\n",
    "# Cách 1:\n",
    "print(\"Chu vi hình chữ nhật là\", P)\n",
    "print(\"Diện tích hình chữ nhật là\", S)"
   ]
  },
  {
   "cell_type": "code",
   "execution_count": 42,
   "id": "2bccf24d",
   "metadata": {},
   "outputs": [
    {
     "name": "stdout",
     "output_type": "stream",
     "text": [
      "Chu vi hình chữ nhật là 11.0\n",
      "Diện tích hình chữ nhật là 120\n"
     ]
    }
   ],
   "source": [
    "# Cách 2:\n",
    "print(\"Chu vi hình chữ nhật là \", end=\"\")\n",
    "print(P)\n",
    "print(\"Diện tích hình chữ nhật là \", end=\"\")\n",
    "print(S)"
   ]
  },
  {
   "cell_type": "code",
   "execution_count": 45,
   "id": "86e0e1df",
   "metadata": {
    "scrolled": true
   },
   "outputs": [
    {
     "name": "stdout",
     "output_type": "stream",
     "text": [
      "Chu vi hình chữ nhật là 11.0\n",
      "Diện tích hình chữ nhật là 120\n"
     ]
    }
   ],
   "source": [
    "# Cách 3:\n",
    "print(f\"Chu vi hình chữ nhật là {P}\")\n",
    "print(f\"Diện tích hình chữ nhật là {S}\")"
   ]
  },
  {
   "cell_type": "markdown",
   "id": "fb54cb77",
   "metadata": {},
   "source": [
    "#### Thực hành: Viết chương trình nhập vào số đo cạnh và mã màu của tam giác đều, sau đó sử dụng turtle để vẽ ra hình tam giác có số đo và màu tương ứng"
   ]
  },
  {
   "cell_type": "code",
   "execution_count": 2,
   "id": "7583b308",
   "metadata": {},
   "outputs": [
    {
     "name": "stdout",
     "output_type": "stream",
     "text": [
      "Hãy vẽ một tam giác đều có cạnh a, và mã màu bạn chọn!\n",
      "Nhập cạnh tam giác a:44\n",
      "Nhập mã màu: Black\n"
     ]
    }
   ],
   "source": [
    "print(\"Hãy vẽ một tam giác đều có cạnh a, và mã màu bạn chọn!\")\n",
    "a = int(input(\"Nhập cạnh tam giác a:\"))\n",
    "color_1 = input(\"Nhập mã màu: \")\n",
    "# Vẽ tam giác đều:\n",
    "import turtle\n",
    "pen = turtle.Turtle()\n",
    "pen.fillcolor(color_1)\n",
    "pen.begin_fill()\n",
    "pen.circle(a, steps=3)\n",
    "pen.end_fill()\n",
    "turtle.done()\n"
   ]
  },
  {
   "cell_type": "markdown",
   "id": "fa7cb208",
   "metadata": {},
   "source": [
    "## Cú pháp import"
   ]
  },
  {
   "cell_type": "markdown",
   "id": "ab2a2ea5",
   "metadata": {},
   "source": [
    "Để sử dụng một module từ bên ngoài, chúng ta sẽ sử dụng từ khóa import. Sau đây là ví dụ về một số cách import phổ biến."
   ]
  },
  {
   "cell_type": "markdown",
   "id": "bd6de377",
   "metadata": {},
   "source": [
    "### Random một giá trị ngẫu nhiên"
   ]
  },
  {
   "cell_type": "code",
   "execution_count": 15,
   "id": "ce5547f5",
   "metadata": {},
   "outputs": [
    {
     "name": "stdout",
     "output_type": "stream",
     "text": [
      "24\n"
     ]
    }
   ],
   "source": [
    "import random\n",
    "print(random.randint(0, 101))"
   ]
  },
  {
   "cell_type": "code",
   "execution_count": 16,
   "id": "7701d529",
   "metadata": {},
   "outputs": [
    {
     "name": "stdout",
     "output_type": "stream",
     "text": [
      "45\n"
     ]
    }
   ],
   "source": [
    "import random as r #import thư viện random vào chương trình dưới tên là r (nội bộ)\n",
    "print(r.randint(0, 101))"
   ]
  },
  {
   "cell_type": "markdown",
   "id": "dfa93dc0",
   "metadata": {},
   "source": [
    "### Thực hiện các phép toán số học"
   ]
  },
  {
   "cell_type": "code",
   "execution_count": 18,
   "id": "4f06f722",
   "metadata": {},
   "outputs": [
    {
     "name": "stdout",
     "output_type": "stream",
     "text": [
      "3.141592653589793\n",
      "8.0\n"
     ]
    }
   ],
   "source": [
    "# import toàn bộ module\n",
    "import math as m\n",
    "print(math.pi)\n",
    "print(math.pow(2, 3))"
   ]
  },
  {
   "cell_type": "code",
   "execution_count": 19,
   "id": "6b9e471b",
   "metadata": {},
   "outputs": [
    {
     "name": "stdout",
     "output_type": "stream",
     "text": [
      "3.141592653589793\n"
     ]
    }
   ],
   "source": [
    "# import một phần trong module\n",
    "from math import pi as p\n",
    "print(p)"
   ]
  },
  {
   "cell_type": "markdown",
   "id": "391969e7",
   "metadata": {},
   "source": [
    "## Xử lý String trong python"
   ]
  },
  {
   "cell_type": "markdown",
   "id": "ab461669",
   "metadata": {},
   "source": [
    "### String là gì?\n",
    "String là một chuỗi gồm các ký tự Unicode"
   ]
  },
  {
   "cell_type": "markdown",
   "id": "94a27b90",
   "metadata": {},
   "source": [
    "### Khởi tạo một string"
   ]
  },
  {
   "cell_type": "code",
   "execution_count": 20,
   "id": "b14f4fcc",
   "metadata": {},
   "outputs": [],
   "source": [
    "# one-line string\n",
    "course = \"Python\"\n",
    "gender = \"M\"\n",
    "question = \"What's your name?\""
   ]
  },
  {
   "cell_type": "code",
   "execution_count": 22,
   "id": "9cc506a7",
   "metadata": {},
   "outputs": [],
   "source": [
    "# multi-line string\n",
    "shape = '''\n",
    "*\n",
    "**\n",
    "***'''"
   ]
  },
  {
   "cell_type": "markdown",
   "id": "8f4270fd",
   "metadata": {},
   "source": [
    "### Các thao tác phổ biến với string"
   ]
  },
  {
   "cell_type": "code",
   "execution_count": 23,
   "id": "c825f890",
   "metadata": {},
   "outputs": [
    {
     "name": "stdout",
     "output_type": "stream",
     "text": [
      "5\n",
      "6\n",
      "9\n"
     ]
    }
   ],
   "source": [
    "# Kiểm tra độ dài string\n",
    "print(len(\"hello\"))\n",
    "print(len(course))\n",
    "print(len(shape))"
   ]
  },
  {
   "cell_type": "code",
   "execution_count": 25,
   "id": "6de96621",
   "metadata": {},
   "outputs": [
    {
     "name": "stdout",
     "output_type": "stream",
     "text": [
      "o\n",
      "o\n"
     ]
    }
   ],
   "source": [
    "# Truy xuất ký tự bằng cơ chế indexing và reverse indexing\n",
    "print(course[4]) #indexing: đánh index( vị tri) từ trái sang phải, bắt đầu từ 0 và tăng dần\n",
    "print(course [-2]) #reverse indexing: đánh index từ phải sang trái, bắt đầu từ -1 và giảm dần"
   ]
  },
  {
   "cell_type": "markdown",
   "id": "a4f949d9",
   "metadata": {},
   "source": [
    "#### Thực hành: Viết chương trình nhập vào một chuỗi bất kỳ, sau đó in ra ký tự đầu tiên và ký tự cuối cùng của chuỗi đó."
   ]
  },
  {
   "cell_type": "code",
   "execution_count": 33,
   "id": "14833f18",
   "metadata": {},
   "outputs": [
    {
     "name": "stdout",
     "output_type": "stream",
     "text": [
      "8\n"
     ]
    }
   ],
   "source": [
    "Pokemon = \"Sceptile\"\n",
    "print(len(Pokemon))\n",
    "Name = \"Kieu Duc Minh\""
   ]
  },
  {
   "cell_type": "code",
   "execution_count": 38,
   "id": "9aad2f16",
   "metadata": {},
   "outputs": [
    {
     "name": "stdout",
     "output_type": "stream",
     "text": [
      "p\n",
      "p\n",
      "Sce\n",
      "Kieu Duc Minh\n",
      " Duc Minh\n"
     ]
    }
   ],
   "source": [
    "# Cắt string theo index\n",
    "print(Pokemon [3])\n",
    "print(Pokemon [-5])\n",
    "print(Pokemon [0:3])\n",
    "print(Name[:13])\n",
    "print(Name[4:])"
   ]
  },
  {
   "cell_type": "code",
   "execution_count": 9,
   "id": "6ec63f90",
   "metadata": {},
   "outputs": [
    {
     "name": "stdout",
     "output_type": "stream",
     "text": [
      "My name is Kieu Minh I am a Student I'm studying Python\n",
      "StudentStudentStudentStudentStudent\n"
     ]
    }
   ],
   "source": [
    "# Ghép chuỗi và lặp chuỗi\n",
    "name = \"Kieu Minh\"\n",
    "role = \"Student\"\n",
    "course = \"Python\"\n",
    "content = \"My name is \" + name + \" I am a \" + role + \" I'm studying \" + course\n",
    "print(content)\n",
    "print(role*5)"
   ]
  },
  {
   "cell_type": "markdown",
   "id": "84c2dcb9",
   "metadata": {},
   "source": [
    "#### Thực hành: Xử lý và in ra các thông tin tương ứng trong chuỗi"
   ]
  },
  {
   "cell_type": "code",
   "execution_count": 45,
   "id": "cd71f135",
   "metadata": {},
   "outputs": [
    {
     "name": "stdout",
     "output_type": "stream",
     "text": [
      "CodeGym\n",
      "Python Fundamental\n",
      "lesson 6\n"
     ]
    }
   ],
   "source": [
    "s = \"CodeGym-Python Fundamental-lesson 6\"\n",
    "print(s[:7])\n",
    "print(s[8:26])\n",
    "print(s[27:])"
   ]
  },
  {
   "cell_type": "markdown",
   "id": "7cbd965f",
   "metadata": {},
   "source": [
    "### Các hàm thông dụng khi xử lý string"
   ]
  },
  {
   "cell_type": "code",
   "execution_count": 10,
   "id": "eb5932a1",
   "metadata": {},
   "outputs": [
    {
     "name": "stdout",
     "output_type": "stream",
     "text": [
      "4\n"
     ]
    }
   ],
   "source": [
    "# len\n",
    "s = \"Minh\"\n",
    "print(len(s))"
   ]
  },
  {
   "cell_type": "code",
   "execution_count": 14,
   "id": "6bef6d33",
   "metadata": {},
   "outputs": [
    {
     "name": "stdout",
     "output_type": "stream",
     "text": [
      "Trong chuỗi s có 7 dấu gạch ngang\n",
      "Trong chuỗi s có 8 từ\n"
     ]
    }
   ],
   "source": [
    "# count: dùng để đếm số lần xuất hiện của 1 chuỗi con trong 1 chuỗi cho trước.\n",
    "s = \"Cac_ham_thong_dung_khi_xu_ly_string\"\n",
    "total_underscore = s.count('_')\n",
    "print(f\"Trong chuỗi s có {total_underscore} dấu gạch ngang\")\n",
    "print(f\"Trong chuỗi s có {total_underscore + 1} từ\")"
   ]
  },
  {
   "cell_type": "code",
   "execution_count": null,
   "id": "1582bbd8",
   "metadata": {},
   "outputs": [],
   "source": [
    "# upper, lower"
   ]
  },
  {
   "cell_type": "code",
   "execution_count": null,
   "id": "0d08f708",
   "metadata": {},
   "outputs": [],
   "source": [
    "# lstrip, rstrip, strip"
   ]
  },
  {
   "cell_type": "code",
   "execution_count": null,
   "id": "62180d52",
   "metadata": {},
   "outputs": [],
   "source": [
    "# split"
   ]
  },
  {
   "cell_type": "markdown",
   "id": "032ba1fc",
   "metadata": {},
   "source": []
  }
 ],
 "metadata": {
  "kernelspec": {
   "display_name": "Python 3 (ipykernel)",
   "language": "python",
   "name": "python3"
  },
  "language_info": {
   "codemirror_mode": {
    "name": "ipython",
    "version": 3
   },
   "file_extension": ".py",
   "mimetype": "text/x-python",
   "name": "python",
   "nbconvert_exporter": "python",
   "pygments_lexer": "ipython3",
   "version": "3.9.6"
  }
 },
 "nbformat": 4,
 "nbformat_minor": 5
}
