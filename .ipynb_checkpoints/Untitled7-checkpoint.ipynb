{
 "cells": [
  {
   "cell_type": "code",
   "execution_count": 3,
   "id": "a4f18ba3",
   "metadata": {},
   "outputs": [
    {
     "name": "stdout",
     "output_type": "stream",
     "text": [
      "Hãy nhập số a gốc: 1\n",
      "Hãy nhập số b gốc: 2\n",
      "Số a là:  2\n",
      "Số b là:  1\n"
     ]
    }
   ],
   "source": [
    "# Bài 1:\n",
    "a = int(input(\"Hãy nhập số a gốc: \"))\n",
    "b = int(input(\"Hãy nhập số b gốc: \"))\n",
    "c = a\n",
    "a = b\n",
    "b = c\n",
    "print(f\"Số a là: \", a)\n",
    "print(f\"Số b là: \", b)"
   ]
  },
  {
   "cell_type": "code",
   "execution_count": 1,
   "id": "8ecc779f",
   "metadata": {},
   "outputs": [
    {
     "name": "stdout",
     "output_type": "stream",
     "text": [
      "Nhập số tiền USD bạn cần đổi: 1\n",
      "Số tiền của bạn đổi sang VND là: 22300.0 VND\n"
     ]
    }
   ],
   "source": [
    "# Bài 2: \n",
    "tien_usd = float(input(\"Nhập số tiền USD bạn cần đổi: \"))\n",
    "tien_vnd = tien_usd * 22350\n",
    "print(f\"Số tiền của bạn đổi sang VND là:\", tien_vnd, \"VND\")"
   ]
  },
  {
   "cell_type": "code",
   "execution_count": 6,
   "id": "42ebf501",
   "metadata": {},
   "outputs": [
    {
     "name": "stdout",
     "output_type": "stream",
     "text": [
      "Nhập số a: 1\n",
      "Nhập số b: 5\n",
      "Nhập số c: 6\n",
      "Phương trình có hai nghiệm phân biệt:\n",
      "x1 =  -2.0\n",
      "x2 =  -3.0\n"
     ]
    }
   ],
   "source": [
    "# Bài 3: Giải ax^2 + bx + c =0\n",
    "import math\n",
    "a = float(input(\"Nhập số a: \"))\n",
    "b = float(input(\"Nhập số b: \"))\n",
    "c = float(input(\"Nhập số c: \"))\n",
    "if a==0:\n",
    "    print(\"a phải là số khác 0, hãy nhập lại a: \")\n",
    "    a = float(input(\"Nhập số a: \"))\n",
    "delta = b**2 - (4 * a * c)\n",
    "if delta < 0:\n",
    "    print(\"Phương trình vô nghiệm\")\n",
    "elif delta == 0:\n",
    "    print(\"Phương trình có nghiệm kép x1 = x2 = \", -(b / (2 * a)))\n",
    "else:\n",
    "    print(\"Phương trình có hai nghiệm phân biệt:\")\n",
    "    print(f\"x1 = \", (-(b) + math.sqrt(delta))/(2*a))\n",
    "    print(f\"x2 = \", (-(b) - math.sqrt(delta))/(2*a))"
   ]
  },
  {
   "cell_type": "code",
   "execution_count": null,
   "id": "6599ccdf",
   "metadata": {},
   "outputs": [],
   "source": []
  }
 ],
 "metadata": {
  "kernelspec": {
   "display_name": "Python 3 (ipykernel)",
   "language": "python",
   "name": "python3"
  },
  "language_info": {
   "codemirror_mode": {
    "name": "ipython",
    "version": 3
   },
   "file_extension": ".py",
   "mimetype": "text/x-python",
   "name": "python",
   "nbconvert_exporter": "python",
   "pygments_lexer": "ipython3",
   "version": "3.9.6"
  }
 },
 "nbformat": 4,
 "nbformat_minor": 5
}
