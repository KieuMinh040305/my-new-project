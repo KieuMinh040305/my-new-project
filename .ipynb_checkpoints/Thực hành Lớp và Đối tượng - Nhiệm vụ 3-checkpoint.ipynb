{
 "cells": [
  {
   "cell_type": "code",
   "execution_count": null,
   "id": "a42fa0c7",
   "metadata": {},
   "outputs": [],
   "source": [
    "\"\"\"\n",
    "Tạo class có tên SoHoc gồm có các thuộc tính và phương thức sau:\n",
    "+ Thuộc tính: number1, number2\n",
    "+ Phương thức:\n",
    "- Phương thức tạo __init()__\n",
    "- Các phương thức get, set cho tất cả các thuộc tính\n",
    "- input_info(): dùng để nhập 2 số number1, number2\n",
    "- print_info(): dùng để hiển thị number1, number2\n",
    "- addition(): dùng để cộng number1, number2\n",
    "- subtract(): trừ number1, number2\n",
    "- multi(): dùng để nhân number1, number2\n",
    "- division(): dùng để chia number1, number2.\n",
    "\n",
    "Sau khi tạo class, khởi tạo một object SoHoc và in ra kết quả tính toán từ các hàm thực hiện phép tính\n",
    "\"\"\""
   ]
  },
  {
   "cell_type": "code",
   "execution_count": 2,
   "id": "bf38143e",
   "metadata": {},
   "outputs": [],
   "source": [
    "class SoHoc:\n",
    "    def __init__(self):\n",
    "        self.num_1 = 0\n",
    "        self.num_2 = 0\n",
    "    def __str__(self):\n",
    "        return f\"Số thứ 1 là: {self.num_1}\\nSố thứ 2 là: {self.num_2}\"\n",
    "    def input_info(self):\n",
    "        self.num_1 = float(input(\"Số thứ nhất là: \"))\n",
    "        self.num_2 = float(input(\"Số thứ hai là: \"))\n",
    "    def print_info(self):\n",
    "        print(self.num_1)\n",
    "        print(self.num_2)\n",
    "    def addition(self):\n",
    "        return self.num_1 + self.num_2\n",
    "    def subtract(self):\n",
    "        return self.num_1 - self.num_2\n",
    "    def multi(self):\n",
    "        return self.num_1 * self.num_2\n",
    "    def division(self):\n",
    "        return self.num_1 / self.num_2"
   ]
  },
  {
   "cell_type": "code",
   "execution_count": 4,
   "id": "028734e9",
   "metadata": {},
   "outputs": [
    {
     "name": "stdout",
     "output_type": "stream",
     "text": [
      "Số thứ 1 là: 0\n",
      "Số thứ 2 là: 0\n",
      "Số thứ nhất là: 4\n",
      "Số thứ hai là: 5\n",
      "Số thứ 1 là: 4.0\n",
      "Số thứ 2 là: 5.0\n",
      "4.0\n",
      "5.0\n",
      "Số thứ 1 là: 4.0\n",
      "Số thứ 2 là: 5.0\n",
      "0.8\n",
      "9.0\n"
     ]
    },
    {
     "data": {
      "text/plain": [
       "20.0"
      ]
     },
     "execution_count": 4,
     "metadata": {},
     "output_type": "execute_result"
    }
   ],
   "source": [
    "number = SoHoc()\n",
    "print(str(number))\n",
    "number.input_info()\n",
    "print(number)\n",
    "number.print_info()\n",
    "print(number)\n",
    "a = number.division()\n",
    "print(a)\n",
    "b = number.addition()\n",
    "print(b)\n",
    "number.subtract()\n",
    "number.multi()"
   ]
  },
  {
   "cell_type": "code",
   "execution_count": 12,
   "id": "c090304a",
   "metadata": {},
   "outputs": [
    {
     "name": "stdout",
     "output_type": "stream",
     "text": [
      "hello\n",
      "hello\n",
      "hello\n",
      "hello\n"
     ]
    }
   ],
   "source": [
    "def hello():\n",
    "    return \"hello\"\n",
    "\n",
    "a = hello()\n",
    "for i in range(4):\n",
    "    print(a)\n",
    "\n",
    "\n"
   ]
  }
 ],
 "metadata": {
  "kernelspec": {
   "display_name": "Python 3 (ipykernel)",
   "language": "python",
   "name": "python3"
  },
  "language_info": {
   "codemirror_mode": {
    "name": "ipython",
    "version": 3
   },
   "file_extension": ".py",
   "mimetype": "text/x-python",
   "name": "python",
   "nbconvert_exporter": "python",
   "pygments_lexer": "ipython3",
   "version": "3.9.6"
  }
 },
 "nbformat": 4,
 "nbformat_minor": 5
}
