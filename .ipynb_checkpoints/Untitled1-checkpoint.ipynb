{
 "cells": [
  {
   "cell_type": "code",
   "execution_count": 1,
   "id": "2f385a30",
   "metadata": {},
   "outputs": [],
   "source": [
    "import turtle\n",
    "pen = turtle.Turtle()"
   ]
  },
  {
   "cell_type": "code",
   "execution_count": 2,
   "id": "c7544606",
   "metadata": {},
   "outputs": [],
   "source": [
    "#Chỉnh bút và vị trí bắt đầu!\n",
    "pen.pensize(5)\n",
    "pen.pencolor(\"Blue\")\n",
    "pen.penup()\n",
    "pen.goto(0, -200)"
   ]
  },
  {
   "cell_type": "code",
   "execution_count": 3,
   "id": "98943bb6",
   "metadata": {},
   "outputs": [],
   "source": [
    "#Vẽ vòng mặt!\n",
    "fsize = 200\n",
    "pen.pendown()\n",
    "pen.fillcolor(\"#96C3EB\")\n",
    "pen.begin_fill()\n",
    "pen.circle(fsize)\n",
    "pen.end_fill()"
   ]
  },
  {
   "cell_type": "code",
   "execution_count": 4,
   "id": "016e23b6",
   "metadata": {},
   "outputs": [],
   "source": [
    "#Vẽ mắt!\n",
    "pen.penup()\n",
    "pen.goto(-100,50)\n",
    "pen.pendown()\n",
    "pen.fillcolor (\"#7ECC49\")\n",
    "pen.begin_fill()\n",
    "esize = 20\n",
    "pen.circle(esize)\n",
    "pen.end_fill()\n",
    "\n",
    "pen.penup()\n",
    "pen.goto(100,50)\n",
    "pen.pendown()\n",
    "pen.fillcolor (\"#7ECC49\")\n",
    "pen.begin_fill()\n",
    "pen.circle(esize)\n",
    "pen.end_fill()"
   ]
  },
  {
   "cell_type": "code",
   "execution_count": 5,
   "id": "6def303f",
   "metadata": {},
   "outputs": [],
   "source": [
    "#Vẽ mũi!\n",
    "pen.penup()\n",
    "pen.goto(0,50)\n",
    "pen.pendown()\n",
    "pen.fillcolor(\"#7ECC49\")\n",
    "pen.begin_fill()\n",
    "pen.circle(-50, steps=3)\n",
    "pen.end_fill()"
   ]
  },
  {
   "cell_type": "code",
   "execution_count": 6,
   "id": "e13bdad5",
   "metadata": {},
   "outputs": [
    {
     "ename": "AttributeError",
     "evalue": "'Turtle' object has no attribute 'mainloop'",
     "output_type": "error",
     "traceback": [
      "\u001b[1;31m---------------------------------------------------------------------------\u001b[0m",
      "\u001b[1;31mAttributeError\u001b[0m                            Traceback (most recent call last)",
      "\u001b[1;32mC:\\Users\\LAPTOP~1\\AppData\\Local\\Temp/ipykernel_6892/3448694388.py\u001b[0m in \u001b[0;36m<module>\u001b[1;34m\u001b[0m\n\u001b[0;32m      5\u001b[0m \u001b[0mpen\u001b[0m\u001b[1;33m.\u001b[0m\u001b[0mright\u001b[0m\u001b[1;33m(\u001b[0m\u001b[1;36m90\u001b[0m\u001b[1;33m)\u001b[0m\u001b[1;33m\u001b[0m\u001b[1;33m\u001b[0m\u001b[0m\n\u001b[0;32m      6\u001b[0m \u001b[0mpen\u001b[0m\u001b[1;33m.\u001b[0m\u001b[0mcircle\u001b[0m\u001b[1;33m(\u001b[0m\u001b[1;36m100\u001b[0m\u001b[1;33m,\u001b[0m\u001b[1;36m180\u001b[0m\u001b[1;33m)\u001b[0m\u001b[1;33m\u001b[0m\u001b[1;33m\u001b[0m\u001b[0m\n\u001b[1;32m----> 7\u001b[1;33m \u001b[0mpen\u001b[0m\u001b[1;33m.\u001b[0m\u001b[0mmainloop\u001b[0m\u001b[1;33m(\u001b[0m\u001b[1;33m)\u001b[0m\u001b[1;33m\u001b[0m\u001b[1;33m\u001b[0m\u001b[0m\n\u001b[0m",
      "\u001b[1;31mAttributeError\u001b[0m: 'Turtle' object has no attribute 'mainloop'"
     ]
    }
   ],
   "source": [
    "#Vẽ miệng!\n",
    "pen.penup()\n",
    "pen.goto(-100, -70)\n",
    "pen.pendown()\n",
    "pen.right(90)\n",
    "pen.circle(100,180)\n"
   ]
  }
 ],
 "metadata": {
  "kernelspec": {
   "display_name": "Python 3 (ipykernel)",
   "language": "python",
   "name": "python3"
  },
  "language_info": {
   "codemirror_mode": {
    "name": "ipython",
    "version": 3
   },
   "file_extension": ".py",
   "mimetype": "text/x-python",
   "name": "python",
   "nbconvert_exporter": "python",
   "pygments_lexer": "ipython3",
   "version": "3.9.6"
  }
 },
 "nbformat": 4,
 "nbformat_minor": 5
}
