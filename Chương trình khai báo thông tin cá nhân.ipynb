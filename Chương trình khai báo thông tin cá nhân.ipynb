{
 "cells": [
  {
   "cell_type": "code",
   "execution_count": null,
   "id": "c20a8a86",
   "metadata": {},
   "outputs": [],
   "source": [
    "# Chương trình in thông tin cá nhân\n",
    "name = input(\"Nhập tên của bạn: \")\n",
    "ngaysinh = input(\"Nhập ngày, tháng, năm sinh cảu bạn: \")\n",
    "diachi = input(\"Nhập địa chỉ của bạn: \")\n",
    "mucdich = input(\"Mục đích của bạn khi đến với khóa học Python là gì?\")\n",
    "print(name)\n",
    "print(ngaysinh)\n",
    "print(diachi)\n",
    "print(mucdich)"
   ]
  }
 ],
 "metadata": {
  "kernelspec": {
   "display_name": "Python 3 (ipykernel)",
   "language": "python",
   "name": "python3"
  },
  "language_info": {
   "codemirror_mode": {
    "name": "ipython",
    "version": 3
   },
   "file_extension": ".py",
   "mimetype": "text/x-python",
   "name": "python",
   "nbconvert_exporter": "python",
   "pygments_lexer": "ipython3",
   "version": "3.9.6"
  }
 },
 "nbformat": 4,
 "nbformat_minor": 5
}
