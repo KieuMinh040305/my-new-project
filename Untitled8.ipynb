{
 "cells": [
  {
   "cell_type": "code",
   "execution_count": 3,
   "id": "f2e6a265",
   "metadata": {},
   "outputs": [
    {
     "name": "stdout",
     "output_type": "stream",
     "text": [
      "Hãy nhập số USD bạn cần đổi: 2\n",
      "Số tiền của bạn đổi sang VND =  44.0\n"
     ]
    }
   ],
   "source": [
    "usd = float(input(\"Hãy nhập số USD bạn cần đổi: \"))\n",
    "vnd = usd * 22\n",
    "print(f\"Số tiền của bạn đổi sang VND = \", str(vnd))"
   ]
  }
 ],
 "metadata": {
  "kernelspec": {
   "display_name": "Python 3 (ipykernel)",
   "language": "python",
   "name": "python3"
  },
  "language_info": {
   "codemirror_mode": {
    "name": "ipython",
    "version": 3
   },
   "file_extension": ".py",
   "mimetype": "text/x-python",
   "name": "python",
   "nbconvert_exporter": "python",
   "pygments_lexer": "ipython3",
   "version": "3.9.6"
  }
 },
 "nbformat": 4,
 "nbformat_minor": 5
}
