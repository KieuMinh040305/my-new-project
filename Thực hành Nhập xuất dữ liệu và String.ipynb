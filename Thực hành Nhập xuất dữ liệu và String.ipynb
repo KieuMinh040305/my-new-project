{
 "cells": [
  {
   "cell_type": "markdown",
   "id": "22c2e4e2",
   "metadata": {},
   "source": [
    "Thực hành: Tính chu vi và diện tích hình tròn\n",
    "    Mô tả: Nhập vào bán kính hình tròn. Vẽ, tính chu vi, diện tích, hiển thị ra màn hình."
   ]
  },
  {
   "cell_type": "code",
   "execution_count": 19,
   "id": "a649427c",
   "metadata": {},
   "outputs": [
    {
     "name": "stdout",
     "output_type": "stream",
     "text": [
      "Nhập vào bán kính hình tròn 14\n"
     ]
    }
   ],
   "source": [
    "# B1: Nhập bán kính hình tròn\n",
    "radius = float(input(\"Nhập vào bán kính hình tròn \"))"
   ]
  },
  {
   "cell_type": "code",
   "execution_count": 20,
   "id": "919018af",
   "metadata": {},
   "outputs": [
    {
     "name": "stdout",
     "output_type": "stream",
     "text": [
      "Chu vi hình tròn là:  87.96459430051421\n",
      "Diện tích hình tròn là:  615.7521601035994\n"
     ]
    }
   ],
   "source": [
    "# B2: Tính chu vi và diện tích hình tròn\n",
    "# Chu vi = pi * 2 * r\n",
    "# Diện tích = pi * r^2\n",
    "from math import pi\n",
    "p = pi*2*radius\n",
    "s = pi*(radius**2)\n",
    "print(\"Chu vi hình tròn là: \", p)\n",
    "print(\"Diện tích hình tròn là: \", s)"
   ]
  },
  {
   "cell_type": "code",
   "execution_count": null,
   "id": "1dfc1d1e",
   "metadata": {},
   "outputs": [],
   "source": [
    "# B3: Vẽ\n",
    "import turtle\n",
    "pen = turtle.Turtle()\n"
   ]
  },
  {
   "cell_type": "code",
   "execution_count": null,
   "id": "79d91cae",
   "metadata": {},
   "outputs": [],
   "source": [
    "pen.circle(radius)\n",
    "turtle.done()"
   ]
  },
  {
   "cell_type": "code",
   "execution_count": 2,
   "id": "456f361a",
   "metadata": {},
   "outputs": [
    {
     "name": "stdout",
     "output_type": "stream",
     "text": [
      "Nhập màu: Blue\n",
      "Nhập màu: Green\n"
     ]
    }
   ],
   "source": [
    "# Nhập tên màu, mã màu vẽ HCN\n",
    "mauto = input(\"Nhập màu: \")\n",
    "maubut = input(\"Nhập màu: \")"
   ]
  },
  {
   "cell_type": "code",
   "execution_count": 5,
   "id": "18ba2949",
   "metadata": {},
   "outputs": [
    {
     "name": "stdout",
     "output_type": "stream",
     "text": [
      "Nhập chiều dài: 18\n",
      "Nhập chiều rộng: 14\n"
     ]
    }
   ],
   "source": [
    "#Kích thước HCN\n",
    "c_dai = int(input(\"Nhập chiều dài: \"))\n",
    "c_rong = int(input(\"Nhập chiều rộng: \"))"
   ]
  },
  {
   "cell_type": "code",
   "execution_count": null,
   "id": "7ac12518",
   "metadata": {},
   "outputs": [],
   "source": [
    "#Vẽ:\n",
    "import turtle\n",
    "pen = turtle.Turtle()\n",
    "pen.pencolor(maubut)\n",
    "pen.fillcolor(mauto)\n",
    "pen.begin_fill()\n",
    "pen.fd(c_dai)\n",
    "pen.right(90)\n",
    "pen.fd(c_rong)\n",
    "pen.right(90)\n",
    "pen.fd(c_dai)\n",
    "pen.right(90)\n",
    "pen.fd(c_rong)\n",
    "pen.end_fill()\n",
    "turtle.done()\n",
    "\n"
   ]
  }
 ],
 "metadata": {
  "kernelspec": {
   "display_name": "Python 3 (ipykernel)",
   "language": "python",
   "name": "python3"
  },
  "language_info": {
   "codemirror_mode": {
    "name": "ipython",
    "version": 3
   },
   "file_extension": ".py",
   "mimetype": "text/x-python",
   "name": "python",
   "nbconvert_exporter": "python",
   "pygments_lexer": "ipython3",
   "version": "3.9.6"
  }
 },
 "nbformat": 4,
 "nbformat_minor": 5
}
