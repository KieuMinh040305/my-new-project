{
 "cells": [
  {
   "cell_type": "code",
   "execution_count": 2,
   "id": "7c279d99",
   "metadata": {},
   "outputs": [
    {
     "name": "stdout",
     "output_type": "stream",
     "text": [
      "1\n",
      "2\n",
      "3\n",
      "4\n",
      "5\n",
      "6\n",
      "7\n",
      "8\n",
      "9\n",
      "10\n"
     ]
    }
   ],
   "source": [
    "'''\n",
    "Warm-up: In ra 10 số tự nhiên đầu tiên từ 1 đến 10\n",
    "'''\n",
    "for i in range(1,11):\n",
    "    print(i)"
   ]
  },
  {
   "cell_type": "code",
   "execution_count": 7,
   "id": "66918d7e",
   "metadata": {},
   "outputs": [
    {
     "name": "stdout",
     "output_type": "stream",
     "text": [
      "Nhập 1 số nguyên dương: -1\n",
      "Vui lòng nhập số nguyên dương!\n",
      "0\n"
     ]
    }
   ],
   "source": [
    "'''\n",
    "Bài 1: Nhập vào số nguyên dương n. Tính tổng các số tự nhiên từ 1 đến n.\n",
    "'''\n",
    "n = int(input(\"Nhập 1 số nguyên dương: \"))\n",
    "tong = 0\n",
    "if n<=0:\n",
    "    print(\"Vui lòng nhập số nguyên dương!\")\n",
    "else:\n",
    "    for i in range(1,n+1):\n",
    "        tong += i\n",
    "print(tong)\n",
    "    \n"
   ]
  },
  {
   "cell_type": "code",
   "execution_count": 9,
   "id": "be255bdc",
   "metadata": {},
   "outputs": [
    {
     "name": "stdout",
     "output_type": "stream",
     "text": [
      "Nhập 1 số nguyên dương: 99\n",
      "99\n",
      "198\n",
      "297\n",
      "396\n",
      "495\n",
      "594\n",
      "693\n",
      "792\n",
      "891\n",
      "990\n"
     ]
    }
   ],
   "source": [
    "'''\n",
    "Bài 2: Nhập vào số nguyên dương n. In ra bảng cửu chương từ 1 đến 10 của n.\n",
    "'''\n",
    "n = int(input(\"Nhập 1 số nguyên dương: \"))\n",
    "for i in range(1,11):\n",
    "    nhan = n * i\n",
    "    print(nhan)"
   ]
  },
  {
   "cell_type": "code",
   "execution_count": 12,
   "id": "681c029c",
   "metadata": {},
   "outputs": [
    {
     "name": "stdout",
     "output_type": "stream",
     "text": [
      "Nhập 1 số nguyên dương: 99\n",
      "Số đã nhập có 2 chữ số!\n"
     ]
    }
   ],
   "source": [
    "'''\n",
    "Bài 3: Nhập vào số nguyên dương n. Đếm xem n có bao nhiêu chữ số.\n",
    "'''\n",
    "n = input(\"Nhập 1 số nguyên dương: \")\n",
    "print(f\"Số đã nhập có {len(n)} chữ số!\")"
   ]
  },
  {
   "cell_type": "code",
   "execution_count": 1,
   "id": "03dc780e",
   "metadata": {},
   "outputs": [
    {
     "name": "stdout",
     "output_type": "stream",
     "text": [
      "Nhập 1 số nguyên dương: 6666\n",
      "6666 có 4 chữ số\n"
     ]
    }
   ],
   "source": [
    "n1 = n = int(input(\"Nhập 1 số nguyên dương: \"))\n",
    "total = 0\n",
    "while n>0:\n",
    "    n //= 10\n",
    "    total += 1 \n",
    "print(f\"{n1} có {total} chữ số\")"
   ]
  },
  {
   "cell_type": "code",
   "execution_count": 6,
   "id": "7eb58122",
   "metadata": {
    "scrolled": false
   },
   "outputs": [
    {
     "name": "stdout",
     "output_type": "stream",
     "text": [
      "Nhập 1 số nguyên dương: 45\n",
      "9\n"
     ]
    },
    {
     "data": {
      "text/plain": [
       "2"
      ]
     },
     "execution_count": 6,
     "metadata": {},
     "output_type": "execute_result"
    }
   ],
   "source": [
    "'''\n",
    "Bài 4: Nhập vào số nguyên dương n. Tính tổng các chữ số của n.\n",
    "'''\n",
    "n = int(input(\"Nhập 1 số nguyên dương: \"))\n",
    "total = 0;\n",
    "while n > 0:\n",
    "    total = total + n % 10\n",
    "    n = int(n / 10)\n",
    "print(total)\n",
    "55&10"
   ]
  },
  {
   "cell_type": "code",
   "execution_count": 2,
   "id": "cf0da697",
   "metadata": {},
   "outputs": [
    {
     "name": "stdout",
     "output_type": "stream",
     "text": [
      "Nhập 1 số nguyên dương: 4\n",
      "1 \n",
      "1 2 \n",
      "1 2 3 \n",
      "1 2 3 4 \n"
     ]
    }
   ],
   "source": [
    "'''\n",
    "Bài 5: Nhập vào số nguyên dương n. Sử dụng cấu trúc vòng lặp lồng nhau(nested for loop) để in ra tam giác có dạng như sau:\n",
    "1\n",
    "1 2\n",
    "1 2 3\n",
    "1 2 3 4\n",
    "1 2 3 4 5\n",
    "'''\n",
    "n = int(input(\"Nhập 1 số nguyên dương: \"))\n",
    "for hang in range(1,n+1):\n",
    "    for so in range(1,hang+1):\n",
    "        print(so, end = ' ')\n",
    "    print()\n"
   ]
  },
  {
   "cell_type": "code",
   "execution_count": 5,
   "id": "1ac5d880",
   "metadata": {},
   "outputs": [
    {
     "name": "stdout",
     "output_type": "stream",
     "text": [
      "Nhập 1 số nguyên dương: 3\n",
      "\n",
      "\n",
      "\n"
     ]
    }
   ],
   "source": [
    "'''\n",
    "Bài 6: Nhập vào số nguyên dương n. Sử dụng cấu trúc vòng lặp lồng nhau(nested for loop) để in ra tam giác có dạng như sau:\n",
    "5 4 3 2 1\n",
    "4 3 2 1\n",
    "3 2 1\n",
    "2 1\n",
    "1\n",
    "'''\n",
    "n = int(input(\"Nhập 1 số nguyên dương: \"))\n",
    "for hang in range(1,n+1):\n",
    "    for so in range(n,1):\n",
    "        print(so, end = ' ')\n",
    "    print()\n"
   ]
  },
  {
   "cell_type": "code",
   "execution_count": null,
   "id": "5a16aa66",
   "metadata": {},
   "outputs": [],
   "source": [
    "'''\n",
    "Bài 7: Nhập vào một số nguyên dương n. Tính giai thừa của n.\n",
    "Note: Giai thừa của n được tính bằng công thức: n! = n*(n - 1)*(n - 2)*...*1\n",
    "Ví dụ: 5! = 5 × 4 × 3 × 2 × 1 = 120\n",
    "'''"
   ]
  },
  {
   "cell_type": "code",
   "execution_count": null,
   "id": "8dfa4890",
   "metadata": {},
   "outputs": [],
   "source": [
    "'''\n",
    "Bài 8: Viết chương trình nhập vào một số nguyên dương n và in ra số đảo ngược của n.\n",
    "Ví dụ:\n",
    "Input: 76542\n",
    "Output: 24567\n",
    "'''"
   ]
  },
  {
   "cell_type": "code",
   "execution_count": null,
   "id": "326700db",
   "metadata": {},
   "outputs": [],
   "source": [
    "'''\n",
    "Bài 9: Viết phần mềm nhập vào số n (từ 1 đến 9) và in ra tam giác có dạng như sau:\n",
    "1\n",
    "22\n",
    "333\n",
    "4444\n",
    "55555\n",
    "666666\n",
    "7777777\n",
    "88888888\n",
    "999999999\n",
    "'''"
   ]
  },
  {
   "cell_type": "code",
   "execution_count": null,
   "id": "bfe2e17f",
   "metadata": {},
   "outputs": [],
   "source": [
    "'''\n",
    "Bonus: Vẽ xe lửa\n",
    "What is the size of your train? 1\n",
    " ______________________>__\n",
    "|]||[]_[]_[]|||[]_[]_[]||[|\n",
    "\\==o-o======o-o======o-o==/\n",
    "\n",
    "What is the size of your train? 2\n",
    " _________________________   ______________________>__\n",
    "|]||[]_[]_[]|||[]_[]_[]||[| |]||[]_[]_[]|||[]_[]_[]||[|\n",
    "\\==o-o======o-o======o-o==/_\\==o-o======o-o======o-o==/\n",
    "'''"
   ]
  }
 ],
 "metadata": {
  "kernelspec": {
   "display_name": "Python 3 (ipykernel)",
   "language": "python",
   "name": "python3"
  },
  "language_info": {
   "codemirror_mode": {
    "name": "ipython",
    "version": 3
   },
   "file_extension": ".py",
   "mimetype": "text/x-python",
   "name": "python",
   "nbconvert_exporter": "python",
   "pygments_lexer": "ipython3",
   "version": "3.9.6"
  }
 },
 "nbformat": 4,
 "nbformat_minor": 5
}
