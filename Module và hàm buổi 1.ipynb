{
 "cells": [
  {
   "cell_type": "markdown",
   "id": "05948314",
   "metadata": {},
   "source": [
    "# Function"
   ]
  },
  {
   "cell_type": "markdown",
   "id": "3b68247e",
   "metadata": {},
   "source": [
    "## Function(hàm) là gì?"
   ]
  },
  {
   "cell_type": "markdown",
   "id": "cf84a685",
   "metadata": {},
   "source": [
    "Hàm (function) là một khối lệnh đặc biệt, nó được đặt tên, giúp mã chương trình dễ đọc hơn, và có thể gọi để sử dụng ở các nơi khác nhau trong chương trình. Hàm chính là khối lệnh có thể tái sử dụng (reuseable)."
   ]
  },
  {
   "cell_type": "markdown",
   "id": "18f95aa8",
   "metadata": {},
   "source": [
    "### Ví dụ: Hàm in"
   ]
  },
  {
   "cell_type": "code",
   "execution_count": 1,
   "id": "0d5f66b5",
   "metadata": {},
   "outputs": [
    {
     "name": "stdout",
     "output_type": "stream",
     "text": [
      "hello\n"
     ]
    }
   ],
   "source": [
    "print(\"hello\")"
   ]
  },
  {
   "cell_type": "markdown",
   "id": "29c55e2b",
   "metadata": {},
   "source": [
    "### Ví dụ: Hàm tính giá trị tuyệt đối"
   ]
  },
  {
   "cell_type": "code",
   "execution_count": 3,
   "id": "e492700a",
   "metadata": {},
   "outputs": [
    {
     "name": "stdout",
     "output_type": "stream",
     "text": [
      "5\n",
      "64.0\n"
     ]
    }
   ],
   "source": [
    "import math\n",
    "print(abs(-5)) #absolute\n",
    "print(math.pow(4, 3)) #mũ"
   ]
  },
  {
   "cell_type": "markdown",
   "id": "07fa617d",
   "metadata": {},
   "source": [
    "### Ví dụ: Hàm vẽ hình tròn"
   ]
  },
  {
   "cell_type": "code",
   "execution_count": null,
   "id": "2a2dec85",
   "metadata": {},
   "outputs": [],
   "source": [
    "import turtle\n",
    "pen = turtle.Turtle()\n",
    "pen.circle(100)\n",
    "turtle.done()"
   ]
  },
  {
   "cell_type": "markdown",
   "id": "c4575e29",
   "metadata": {},
   "source": [
    "## Xây dựng và sử dụng hàm trong python"
   ]
  },
  {
   "cell_type": "markdown",
   "id": "00ac6720",
   "metadata": {},
   "source": [
    "### Hàm say_hello"
   ]
  },
  {
   "cell_type": "code",
   "execution_count": 6,
   "id": "47575691",
   "metadata": {},
   "outputs": [],
   "source": [
    "# define : định nghĩa\n",
    "def say_hello():\n",
    "    print(\"Hello Python\")\n",
    " "
   ]
  },
  {
   "cell_type": "code",
   "execution_count": 7,
   "id": "ce2f6cf9",
   "metadata": {},
   "outputs": [
    {
     "name": "stdout",
     "output_type": "stream",
     "text": [
      "Hello Python\n"
     ]
    }
   ],
   "source": [
    "say_hello()"
   ]
  },
  {
   "cell_type": "markdown",
   "id": "f9b6f894",
   "metadata": {},
   "source": [
    "### Hàm vẽ cây thông"
   ]
  },
  {
   "cell_type": "code",
   "execution_count": null,
   "id": "7ffc1c65",
   "metadata": {},
   "outputs": [],
   "source": [
    "import turtle\n",
    "t = turtle.Turtle()\n",
    "def draw_tree_body():\n",
    "    mau_thancay = \"#AE7000\"\n",
    "    t.penup()\n",
    "    t.goto(-200,-200)\n",
    "    t.fillcolor(mau_thancay)\n",
    "    t.begin_fill()\n",
    "    t.pendown()\n",
    "    t.right(90)\n",
    "    t.forward(20)\n",
    "    t.left(90)\n",
    "    t.forward(40)\n",
    "    t.left(90)\n",
    "    t.forward(20)\n",
    "    t.left(90)\n",
    "    t.forward(40)\n",
    "    t.end_fill()\n",
    "\n",
    "t.penup()\n",
    "t.goto(-200,-160)\n",
    "t.rt(90)\n",
    "t.pendown()\n",
    "t.fillcolor(\"#234F1E\")\n",
    "t.begin_fill()\n",
    "t.forward(40)\n",
    "t.right(120)\n",
    "t.forward(100)\n",
    "t.right(120)\n",
    "t.forward(100)\n",
    "t.right(120)\n",
    "t.forward(60)\n",
    "t.end_fill()\n",
    "\n",
    "t.penup()\n",
    "t.goto(-190,-74)\n",
    "t.fillcolor(\"#74B72E\")\n",
    "t.begin_fill()\n",
    "t.pendown()\n",
    "t.forward(50)\n",
    "t.right(120)\n",
    "t.forward(100)\n",
    "t.right(120)\n",
    "t.forward(100)\n",
    "t.right(120)\n",
    "t.forward(50)\n",
    "t.end_fill()\n"
   ]
  },
  {
   "cell_type": "markdown",
   "id": "77fa1ef1",
   "metadata": {},
   "source": [
    "## doc_string cho hàm"
   ]
  },
  {
   "cell_type": "code",
   "execution_count": 8,
   "id": "8dcf448b",
   "metadata": {},
   "outputs": [
    {
     "name": "stdout",
     "output_type": "stream",
     "text": [
      "\n",
      "    Hàm calculate_recrangle_perimeter dùng để tính chu vi hcn với chiều dài và chiều rộng cho trước\n",
      "    Nhận vào cd, cr.\n",
      "    Trả ra chu vi hcn\n",
      "    \n"
     ]
    }
   ],
   "source": [
    "# Hàm tính chu vi hình chữ nhật\n",
    "def calculate_rectangle_perimeter():\n",
    "    '''\n",
    "    Hàm calculate_recrangle_perimeter dùng để tính chu vi hcn với chiều dài và chiều rộng cho trước\n",
    "    Nhận vào cd, cr.\n",
    "    Trả ra chu vi hcn\n",
    "    '''\n",
    "    pass\n",
    "print(calculate_rectangle_perimeter.__doc__)"
   ]
  },
  {
   "cell_type": "code",
   "execution_count": 9,
   "id": "a7dc57e9",
   "metadata": {},
   "outputs": [
    {
     "name": "stdout",
     "output_type": "stream",
     "text": [
      "\n",
      "    Hàm xep_loai_hs dùng để xếp loại loại hs dựa vào điểm học lực nhập vào.\n",
      "    Nhận vào: Điểm trung bình.\n",
      "    Trả về:\n",
      "    đtb <5: hs trung bình\n",
      "    5<= đtb <8: hs khá\n",
      "    Còn lại: hs giỏi\n",
      "    \n"
     ]
    }
   ],
   "source": [
    "# Hàm xếp loại học sinh\n",
    "# In ra xếp loại học lực của học sinh dựa vào điểm trung bình\n",
    "# <5: hstrung bình\n",
    "# 5<= và <8 : hs khá\n",
    "# còn lại hs giỏi\n",
    "def xep_loai_hs():\n",
    "    '''\n",
    "    Hàm xep_loai_hs dùng để xếp loại loại hs dựa vào điểm học lực nhập vào.\n",
    "    Nhận vào: Điểm trung bình.\n",
    "    Trả về:\n",
    "    đtb <5: hs trung bình\n",
    "    5<= đtb <8: hs khá\n",
    "    Còn lại: hs giỏi\n",
    "    '''\n",
    "    pass\n",
    "print(xep_loai_hs.__doc__)"
   ]
  },
  {
   "cell_type": "code",
   "execution_count": 19,
   "id": "b6b5110d",
   "metadata": {},
   "outputs": [
    {
     "name": "stdout",
     "output_type": "stream",
     "text": [
      "Học sinh trung bình\n"
     ]
    }
   ],
   "source": [
    "def xep_loai_hs(diem_tb):\n",
    "    if diem_tb<=5:\n",
    "        print(\"Học sinh trung bình\")\n",
    "    elif diem_tb>=8:\n",
    "        print(\"Học sinh giỏi\")\n",
    "    else:\n",
    "        print(\"Học sinh khá\")\n",
    "\n",
    "xep_loai_hs(4)"
   ]
  },
  {
   "cell_type": "markdown",
   "id": "0c5f3f35",
   "metadata": {},
   "source": [
    "## Phạm vi biến"
   ]
  },
  {
   "cell_type": "code",
   "execution_count": 12,
   "id": "b332222c",
   "metadata": {},
   "outputs": [
    {
     "name": "stdout",
     "output_type": "stream",
     "text": [
      "5\n",
      "10\n"
     ]
    }
   ],
   "source": [
    "# Hàm tính tổng các số từ 1 đến 10\n",
    "number = 10 # global\n",
    "def process_number():\n",
    "    number = 5 # local\n",
    "    print(number)\n",
    "    \n",
    "process_number()\n",
    "print(number)"
   ]
  },
  {
   "cell_type": "markdown",
   "id": "7407e8fe",
   "metadata": {},
   "source": [
    "## Đối số của hàm"
   ]
  },
  {
   "cell_type": "code",
   "execution_count": 13,
   "id": "bdf041da",
   "metadata": {},
   "outputs": [
    {
     "data": {
      "text/plain": [
       "219"
      ]
     },
     "execution_count": 13,
     "metadata": {},
     "output_type": "execute_result"
    }
   ],
   "source": [
    "from random import randint\n",
    "randint(100,300)"
   ]
  },
  {
   "cell_type": "code",
   "execution_count": 15,
   "id": "f5787950",
   "metadata": {},
   "outputs": [
    {
     "name": "stdout",
     "output_type": "stream",
     "text": [
      "27\n"
     ]
    }
   ],
   "source": [
    "# Hàm tính thể tích hình lập phương\n",
    "def calculate_cube_volume(side): #parameter\n",
    "    print(side * side * side)\n",
    "calculate_cube_volume(3)"
   ]
  },
  {
   "cell_type": "code",
   "execution_count": 7,
   "id": "8d1bc23b",
   "metadata": {},
   "outputs": [],
   "source": [
    "# Hàm xếp loại học sinh"
   ]
  },
  {
   "cell_type": "code",
   "execution_count": 7,
   "id": "3ce8204d",
   "metadata": {},
   "outputs": [
    {
     "name": "stdout",
     "output_type": "stream",
     "text": [
      "7\n"
     ]
    }
   ],
   "source": [
    "# Hàm tính số lần hiện của chuỗi con trong chuỗi cho\n",
    "def count_appearance(string, sub_string):\n",
    "    n = 0\n",
    "    for i in string:\n",
    "        if i in sub_string:\n",
    "            n+=1\n",
    "    print(n)\n",
    "count_appearance(\"aaaabbbbaaa\", \"a\")"
   ]
  },
  {
   "cell_type": "code",
   "execution_count": 15,
   "id": "a301cb04",
   "metadata": {},
   "outputs": [
    {
     "name": "stdout",
     "output_type": "stream",
     "text": [
      "7\n"
     ]
    }
   ],
   "source": [
    "def count_appearance(string, sub_string='a'):\n",
    "    print(string.count(sub_string))\n",
    "count_appearance(\"aaaabbbbaaa\")\n",
    "# Default value đc sử dụng để gắn giá trị mặc định sẵn cho parameter"
   ]
  },
  {
   "cell_type": "code",
   "execution_count": 18,
   "id": "433338f6",
   "metadata": {},
   "outputs": [
    {
     "name": "stdout",
     "output_type": "stream",
     "text": [
      "-1\n"
     ]
    }
   ],
   "source": [
    "def minus(a,b):\n",
    "    print(a-b)\n",
    "minus(b=4,a=3)"
   ]
  },
  {
   "cell_type": "markdown",
   "id": "4cb69485",
   "metadata": {},
   "source": [
    "## Giá trị trả về của hàm"
   ]
  },
  {
   "cell_type": "code",
   "execution_count": 24,
   "id": "24592238",
   "metadata": {},
   "outputs": [
    {
     "name": "stdout",
     "output_type": "stream",
     "text": [
      "Độ dài của chuỗi 1 là 10\n",
      "Chuỗi 1 dài hơn\n"
     ]
    }
   ],
   "source": [
    "# Hàm tính chiều dài của chuỗi\n",
    "def len_string(string):\n",
    "    # process\n",
    "    return len(string)\n",
    "len1 = len_string(\"Windows 11\")\n",
    "len2 = len_string(\"Hello!\")\n",
    "print(f\"Độ dài của chuỗi 1 là {len1}\")\n",
    "if len1 <= len2:\n",
    "    print(\"Chuỗi 2 dài hơn\")\n",
    "else: \n",
    "    print(\"Chuỗi 1 dài hơn\")"
   ]
  },
  {
   "cell_type": "code",
   "execution_count": 2,
   "id": "56d947d8",
   "metadata": {},
   "outputs": [
    {
     "name": "stdout",
     "output_type": "stream",
     "text": [
      "Nhập a: 4\n",
      "Nhập b: 4\n",
      "4 ^ 4 = 256\n"
     ]
    }
   ],
   "source": [
    "# Hàm tính lũy thừa\n",
    "# 1. Viết hàm input_data thực hiện công việc nhập dữ liệu:\n",
    "def input_data():\n",
    "    a = int(input(\"Nhập a: \"))\n",
    "    b = int(input(\"Nhập b: \"))\n",
    "    return a, b\n",
    "# 2. Viết hàm calc_pow để thực hiện tính lũy thừa a mũ b:\n",
    "def calc_pow(a,b):\n",
    "    return a**b\n",
    "# 3. Viết hàm process để thực hiện các công việc theo từng bước\n",
    "def process():\n",
    "    a, b = input_data()\n",
    "    result = calc_pow(a, b)\n",
    "    print(f\"{a} ^ {b} = {result}\")\n",
    "process()"
   ]
  },
  {
   "cell_type": "code",
   "execution_count": null,
   "id": "0178d43e",
   "metadata": {},
   "outputs": [],
   "source": [
    "# Hàm kiểm tra năm nhuận"
   ]
  }
 ],
 "metadata": {
  "kernelspec": {
   "display_name": "Python 3 (ipykernel)",
   "language": "python",
   "name": "python3"
  },
  "language_info": {
   "codemirror_mode": {
    "name": "ipython",
    "version": 3
   },
   "file_extension": ".py",
   "mimetype": "text/x-python",
   "name": "python",
   "nbconvert_exporter": "python",
   "pygments_lexer": "ipython3",
   "version": "3.9.6"
  }
 },
 "nbformat": 4,
 "nbformat_minor": 5
}
