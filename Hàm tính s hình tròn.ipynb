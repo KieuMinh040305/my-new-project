{
 "cells": [
  {
   "cell_type": "code",
   "execution_count": 4,
   "id": "e9d0e6f6",
   "metadata": {},
   "outputs": [],
   "source": [
    "# Hàm tính diện tích hình tròn.\n",
    "import turtle\n",
    "import math\n",
    "def vehtron(r):\n",
    "    \"\"\"Hàm vẽ hình tròn với bán kính r\"\"\"\n",
    "    t = turtle.Turtle()\n",
    "    t.hideturtle()\n",
    "    t.pencolor('blue')\n",
    "    t.circle(r)\n",
    "    turtle.done()"
   ]
  },
  {
   "cell_type": "code",
   "execution_count": 1,
   "id": "85013a6f",
   "metadata": {},
   "outputs": [],
   "source": [
    "def dientich(r):\n",
    "    \"\"\"Hàm tính diện tích hình tròn với bán kính r\"\"\"\n",
    "    s = 3.14 * r * r\n",
    "    print(f\"Diện tích hình tròn là {s}\")"
   ]
  },
  {
   "cell_type": "code",
   "execution_count": 5,
   "id": "899b807c",
   "metadata": {},
   "outputs": [
    {
     "name": "stdout",
     "output_type": "stream",
     "text": [
      "Nhập bán kính hình tròn: 43\n"
     ]
    }
   ],
   "source": [
    "r = float(input(\"Nhập bán kính hình tròn: \"))\n",
    "vehtron(r)"
   ]
  },
  {
   "cell_type": "code",
   "execution_count": 2,
   "id": "69ae1cb7",
   "metadata": {},
   "outputs": [
    {
     "name": "stdout",
     "output_type": "stream",
     "text": [
      "Nhập bán kính hình tròn: 45\n",
      "Diện tích hình tròn là 6358.500000000001\n"
     ]
    }
   ],
   "source": [
    "r = float(input(\"Nhập bán kính hình tròn: \"))\n",
    "dientich(r)"
   ]
  }
 ],
 "metadata": {
  "kernelspec": {
   "display_name": "Python 3 (ipykernel)",
   "language": "python",
   "name": "python3"
  },
  "language_info": {
   "codemirror_mode": {
    "name": "ipython",
    "version": 3
   },
   "file_extension": ".py",
   "mimetype": "text/x-python",
   "name": "python",
   "nbconvert_exporter": "python",
   "pygments_lexer": "ipython3",
   "version": "3.9.6"
  }
 },
 "nbformat": 4,
 "nbformat_minor": 5
}
