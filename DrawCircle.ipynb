{
 "cells": [
  {
   "cell_type": "code",
   "execution_count": 1,
   "id": "e66593eb",
   "metadata": {},
   "outputs": [],
   "source": [
    "import turtle"
   ]
  },
  {
   "cell_type": "code",
   "execution_count": 2,
   "id": "3454d358",
   "metadata": {},
   "outputs": [],
   "source": [
    "pen = turtle.Turtle()"
   ]
  },
  {
   "cell_type": "code",
   "execution_count": null,
   "id": "b990dd89",
   "metadata": {},
   "outputs": [],
   "source": [
    "pen.pensize(5)\n",
    "turtle.pencolor(\"red\")\n",
    "turtle.fillcolor(\"blue\")\n",
    "turtle.begin_fill()\n",
    "turtle.circle(100)\n",
    "turtle.end_fill()\n",
    "turtle.done()\n"
   ]
  }
 ],
 "metadata": {
  "kernelspec": {
   "display_name": "Python 3 (ipykernel)",
   "language": "python",
   "name": "python3"
  },
  "language_info": {
   "codemirror_mode": {
    "name": "ipython",
    "version": 3
   },
   "file_extension": ".py",
   "mimetype": "text/x-python",
   "name": "python",
   "nbconvert_exporter": "python",
   "pygments_lexer": "ipython3",
   "version": "3.9.6"
  }
 },
 "nbformat": 4,
 "nbformat_minor": 5
}
