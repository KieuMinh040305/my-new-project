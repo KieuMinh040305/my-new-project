{
 "cells": [
  {
   "cell_type": "code",
   "execution_count": 3,
   "id": "f710c97d",
   "metadata": {},
   "outputs": [
    {
     "name": "stdout",
     "output_type": "stream",
     "text": [
      "Chào các bạn lớp 11A3!\n",
      "Lớp các bạn có bao nhiêu học sinh?\n",
      "Nhập số học sinh lớp 11A3: 45\n",
      "Lớp tớ có 45 bạn cùng lớp!\n"
     ]
    }
   ],
   "source": [
    "print(\"Chào các bạn lớp 11A3!\")\n",
    "print(\"Lớp các bạn có bao nhiêu học sinh?\")\n",
    "sohs = int(input(\"Nhập số học sinh lớp 11A3: \"))\n",
    "if sohs>0:\n",
    "    print(f\"Lớp tớ có {sohs} bạn cùng lớp!\")"
   ]
  }
 ],
 "metadata": {
  "kernelspec": {
   "display_name": "Python 3 (ipykernel)",
   "language": "python",
   "name": "python3"
  },
  "language_info": {
   "codemirror_mode": {
    "name": "ipython",
    "version": 3
   },
   "file_extension": ".py",
   "mimetype": "text/x-python",
   "name": "python",
   "nbconvert_exporter": "python",
   "pygments_lexer": "ipython3",
   "version": "3.9.6"
  }
 },
 "nbformat": 4,
 "nbformat_minor": 5
}
